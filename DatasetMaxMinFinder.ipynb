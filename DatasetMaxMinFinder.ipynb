{
  "nbformat": 4,
  "nbformat_minor": 0,
  "metadata": {
    "colab": {
      "provenance": [],
      "authorship_tag": "ABX9TyOCLcO086wBa4uI/xBIiz36",
      "include_colab_link": true
    },
    "kernelspec": {
      "name": "python3",
      "display_name": "Python 3"
    },
    "language_info": {
      "name": "python"
    }
  },
  "cells": [
    {
      "cell_type": "markdown",
      "metadata": {
        "id": "view-in-github",
        "colab_type": "text"
      },
      "source": [
        "<a href=\"https://colab.research.google.com/github/btoneil2021/100-projects/blob/main/DatasetMaxMinFinder.ipynb\" target=\"_parent\"><img src=\"https://colab.research.google.com/assets/colab-badge.svg\" alt=\"Open In Colab\"/></a>"
      ]
    },
    {
      "cell_type": "code",
      "source": [
        "number_series = \"\"\"105\n",
        "78\n",
        "23\n",
        "99\n",
        "45\n",
        "12\n",
        "67\n",
        "88\n",
        "34\"\"\""
      ],
      "metadata": {
        "id": "A4dN6ClJTSTf"
      },
      "execution_count": 12,
      "outputs": []
    },
    {
      "cell_type": "code",
      "source": [
        "with open(\"number_series.txt\", \"w\") as f:\n",
        "  f.write(number_series)"
      ],
      "metadata": {
        "id": "JDbXMdsaTXu6"
      },
      "execution_count": 13,
      "outputs": []
    },
    {
      "cell_type": "code",
      "source": [
        "data = []\n",
        "try:\n",
        "  with open(\"number_series.txt\", \"r\") as f:\n",
        "    for line in f:\n",
        "      data.append(int(line.strip()))\n",
        "except FileNotFoundError:\n",
        "  print(\"File not found.\")\n",
        "except ValueError:\n",
        "  print(\"Invalid data format in the file.\")"
      ],
      "metadata": {
        "id": "SjxsiQtzTdKc"
      },
      "execution_count": 14,
      "outputs": []
    },
    {
      "cell_type": "code",
      "source": [
        "# Check if the list is empty\n",
        "if not data:\n",
        "    print(\"The dataset is empty.\")\n",
        "else:\n",
        "    # Initialize max_value and min_value with the first element of the list\n",
        "    max_value = data[0]\n",
        "    min_value = data[0]\n",
        "\n",
        "    # Iterate through the rest of the list\n",
        "    for number in data[1:]:\n",
        "        # Compare the number with the current max_value\n",
        "        if number > max_value:\n",
        "            max_value = number\n",
        "\n",
        "        # Compare the number with the current min_value\n",
        "        if number < min_value:\n",
        "            min_value = number\n",
        "\n",
        "    # Print the results\n",
        "    print(f\"The maximum value in the dataset is: {max_value}\")\n",
        "    print(f\"The minimum value in the dataset is: {min_value}\")"
      ],
      "metadata": {
        "colab": {
          "base_uri": "https://localhost:8080/"
        },
        "id": "j5fbrO4sTHV-",
        "outputId": "fb03ad10-238b-4b73-82a5-32518980934f"
      },
      "execution_count": 15,
      "outputs": [
        {
          "output_type": "stream",
          "name": "stdout",
          "text": [
            "The maximum value in the dataset is: 105\n",
            "The minimum value in the dataset is: 12\n"
          ]
        }
      ]
    }
  ]
}