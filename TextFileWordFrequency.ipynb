{
  "nbformat": 4,
  "nbformat_minor": 0,
  "metadata": {
    "colab": {
      "provenance": [],
      "authorship_tag": "ABX9TyPYW9JcbaqLCk9jjRRB9INI",
      "include_colab_link": true
    },
    "kernelspec": {
      "name": "python3",
      "display_name": "Python 3"
    },
    "language_info": {
      "name": "python"
    }
  },
  "cells": [
    {
      "cell_type": "markdown",
      "metadata": {
        "id": "view-in-github",
        "colab_type": "text"
      },
      "source": [
        "<a href=\"https://colab.research.google.com/github/btoneil2021/100-projects/blob/main/TextFileWordFrequency.ipynb\" target=\"_parent\"><img src=\"https://colab.research.google.com/assets/colab-badge.svg\" alt=\"Open In Colab\"/></a>"
      ]
    },
    {
      "cell_type": "code",
      "source": [
        "# The text file contains an example essay that I created using Gemini."
      ],
      "metadata": {
        "id": "Ig3B2jABa8xU"
      },
      "execution_count": 10,
      "outputs": []
    },
    {
      "cell_type": "code",
      "source": [
        "import string\n",
        "from collections import Counter"
      ],
      "metadata": {
        "id": "Bo57qLX-Zlih"
      },
      "execution_count": 5,
      "outputs": []
    },
    {
      "cell_type": "code",
      "execution_count": 2,
      "metadata": {
        "colab": {
          "base_uri": "https://localhost:8080/"
        },
        "id": "lyyveDIXXRDf",
        "outputId": "93072df5-4d36-49dd-a238-236ee7f9e060"
      },
      "outputs": [
        {
          "output_type": "stream",
          "name": "stdout",
          "text": [
            "File read successfully.\n"
          ]
        }
      ],
      "source": [
        "file_path = '/content/AI_example.txt'\n",
        "text_content = ''\n",
        "\n",
        "try:\n",
        "  with open(file_path, 'r', encoding='utf-8') as file:\n",
        "    text = file.read()\n",
        "  print(\"File read successfully.\")\n",
        "except FileNotFoundError:\n",
        "  print(f\"File not found at path: {file_path}\")\n",
        "except Exception as e:\n",
        "  print(f\"An error occurred: {e}\")"
      ]
    },
    {
      "cell_type": "code",
      "source": [
        "if text:\n",
        "  text = text.lower()\n",
        "\n",
        "  translator = str.maketrans('', '', string.punctuation)\n",
        "  text = text.translate(translator)\n",
        "\n",
        "  words = text.split()\n",
        "else:\n",
        "  words = []\n",
        "  print(\"Text content is empty. Skipping normalization and splitting\")"
      ],
      "metadata": {
        "id": "1vcSQHr7Zgf5"
      },
      "execution_count": 4,
      "outputs": []
    },
    {
      "cell_type": "code",
      "source": [
        "if words:\n",
        "  word_counts = Counter(words)\n",
        "else:\n",
        "  word_counts = Counter()\n",
        "  print(\"Word list is empty. No amounts to count\")"
      ],
      "metadata": {
        "id": "8PvsLyIjaDdz"
      },
      "execution_count": 7,
      "outputs": []
    },
    {
      "cell_type": "code",
      "source": [
        "if word_counts:\n",
        "  TOP_NUMBER = 10\n",
        "  most_common_words = word_counts.most_common(TOP_NUMBER)\n",
        "\n",
        "  print(f\"Top {TOP_NUMBER} most frequent words:\")\n",
        "  for word, count in most_common_words:\n",
        "    print(f\"- {word}: {count}\")\n",
        "else:\n",
        "  print(\"No word counts to display\")"
      ],
      "metadata": {
        "colab": {
          "base_uri": "https://localhost:8080/"
        },
        "id": "ORd1G6KXaRQ9",
        "outputId": "a1a7822c-e405-472a-cda3-86481e7d8340"
      },
      "execution_count": 9,
      "outputs": [
        {
          "output_type": "stream",
          "name": "stdout",
          "text": [
            "Top 10 most frequent words:\n",
            "- and: 58\n",
            "- the: 45\n",
            "- of: 38\n",
            "- ai: 28\n",
            "- to: 27\n",
            "- a: 16\n",
            "- for: 13\n",
            "- in: 13\n",
            "- is: 12\n",
            "- more: 9\n"
          ]
        }
      ]
    }
  ]
}