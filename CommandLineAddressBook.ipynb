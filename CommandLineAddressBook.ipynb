{
  "nbformat": 4,
  "nbformat_minor": 0,
  "metadata": {
    "colab": {
      "provenance": [],
      "authorship_tag": "ABX9TyMcKhPmTSbA4iWIf1eHYE7X",
      "include_colab_link": true
    },
    "kernelspec": {
      "name": "python3",
      "display_name": "Python 3"
    },
    "language_info": {
      "name": "python"
    }
  },
  "cells": [
    {
      "cell_type": "markdown",
      "metadata": {
        "id": "view-in-github",
        "colab_type": "text"
      },
      "source": [
        "<a href=\"https://colab.research.google.com/github/btoneil2021/100-projects/blob/main/CommandLineAddressBook.ipynb\" target=\"_parent\"><img src=\"https://colab.research.google.com/assets/colab-badge.svg\" alt=\"Open In Colab\"/></a>"
      ]
    },
    {
      "cell_type": "code",
      "execution_count": 1,
      "metadata": {
        "colab": {
          "base_uri": "https://localhost:8080/"
        },
        "id": "M67iuzfOg5x7",
        "outputId": "950d1683-4f2d-4a45-b6b7-6ae556cb7d75"
      },
      "outputs": [
        {
          "output_type": "stream",
          "name": "stdout",
          "text": [
            "sample_data\n"
          ]
        }
      ],
      "source": [
        "!ls"
      ]
    },
    {
      "cell_type": "code",
      "source": [
        "import json"
      ],
      "metadata": {
        "id": "_mIYhYe1pTSJ"
      },
      "execution_count": 50,
      "outputs": []
    },
    {
      "cell_type": "code",
      "source": [
        "required_info = ['name', 'phone_number', 'e_mail']"
      ],
      "metadata": {
        "id": "Uzy50yn7nu_E"
      },
      "execution_count": 43,
      "outputs": []
    },
    {
      "cell_type": "code",
      "source": [
        "class Contact:\n",
        "  def __init__(self, details):\n",
        "    self.info = {}\n",
        "    for index, key in enumerate(required_info):\n",
        "      self.info[key] = details[index]\n",
        "\n",
        "  def __str__(self):\n",
        "    string = ''\n",
        "    for key in self.get_keys():\n",
        "      string += f\"{key.title().replace('_', ' ')}: {self.info[key]}, \"\n",
        "    string = string[:-2]\n",
        "    return string\n",
        "\n",
        "  def get_keys(self):\n",
        "    return self.info.keys()\n",
        "\n",
        "  def get_value(self, key):\n",
        "    return self.info[key]\n",
        "\n",
        "  def to_dict(self):\n",
        "    return self.info\n",
        "\n",
        "class ContactList:\n",
        "  def __init__(self):\n",
        "    self.contacts = []\n",
        "\n",
        "  def add_contact(self, contact):\n",
        "    self.contacts.append(contact)\n",
        "\n",
        "  # Delete by Name\n",
        "  def delete_contact(self, name):\n",
        "    for contact in self.contacts:\n",
        "      if contact.get_value('name') == name:\n",
        "        self.contacts.remove(contact)\n",
        "\n",
        "  # Search by name\n",
        "  def search_for_contact(self, name):\n",
        "    for contact in self.contacts:\n",
        "      if contact.get_value('name') == name:\n",
        "        print(contact)\n",
        "    return None\n",
        "\n",
        "  def view_contacts(self):\n",
        "    if len(self.contacts) == 0:\n",
        "      print('No contacts')\n",
        "    else:\n",
        "      for contact in self.contacts:\n",
        "        print(contact)\n",
        "\n",
        "  def to_dict(self):\n",
        "    return [contact.to_dict() for contact in self.contacts]"
      ],
      "metadata": {
        "id": "2ULc1PwdhU2p"
      },
      "execution_count": 56,
      "outputs": []
    },
    {
      "cell_type": "code",
      "source": [
        "def print_menu():\n",
        "  print(\"\\nAddress Book Menu:\")\n",
        "  print(\"  add    - Add a new contact\")\n",
        "  print(\"  view   - View all contacts\")\n",
        "  print(\"  search - Search for a contact by name\")\n",
        "  print(\"  delete - Delete a contact by name\")\n",
        "  # print(\"  update - Update an existing contact (to be implemented)\") # Future\n",
        "  print(\"  exit   - Exit the address book\")\n",
        "  print(\"\\n\\n\")\n",
        "\n",
        "def main():\n",
        "  contact_list = load_contacts_from_file()\n",
        "  while True:\n",
        "    print_menu()\n",
        "    choice = input(\"Enter your choice: \")\n",
        "\n",
        "    if choice == 'exit':\n",
        "      save_contacts_to_file(contact_list)\n",
        "      print(\"\\nExiting the address book. Goodbye!\")\n",
        "      break\n",
        "    elif choice == 'add':\n",
        "      info_to_add = []\n",
        "      for key in required_info:\n",
        "        info_to_add.append(input(f\"\\nEnter {key}: \"))\n",
        "      new_contact = Contact(info_to_add)\n",
        "      contact_list.add_contact(new_contact)\n",
        "      print(f\"\\n{new_contact.get_value('name')} has been added to the address book.\")\n",
        "    elif choice == 'view':\n",
        "      print()\n",
        "      contact_list.view_contacts()\n",
        "    elif choice == 'search':\n",
        "      name = input(\"\\nEnter the name of the contact to search for: \")\n",
        "      contact_list.search_for_contact(name)\n",
        "    elif choice == 'delete':\n",
        "      name = input(\"\\nEnter the name of the contact to delete: \")\n",
        "      contact_list.delete_contact(name)\n",
        "      print(f\"\\n{name} has been deleted from the address book.\")"
      ],
      "metadata": {
        "id": "fCqthT_il1OJ"
      },
      "execution_count": 60,
      "outputs": []
    },
    {
      "cell_type": "code",
      "source": [
        "def save_contacts_to_file(contact_list):\n",
        "  try:\n",
        "    with open('contacts.json', 'w') as f:\n",
        "      json.dump(contact_list.to_dict(), f)\n",
        "    print(\"\\nContacts saved to file.\")\n",
        "  except Exception as e:\n",
        "    print(f\"\\nError saving contacts to file: {e}\")"
      ],
      "metadata": {
        "id": "FPb5SZbGo-Qq"
      },
      "execution_count": 54,
      "outputs": []
    },
    {
      "cell_type": "code",
      "source": [
        "def load_contacts_from_file():\n",
        "  try:\n",
        "    with open('contacts.json', 'r') as f:\n",
        "      contacts_data = json.load(f)\n",
        "      contact_list = ContactList()\n",
        "      for contact_data in contacts_data:\n",
        "        contact = Contact([contact_data[key] for key in required_info])\n",
        "        contact_list.add_contact(contact)\n",
        "      print(\"\\nContacts loaded from file.\")\n",
        "      return contact_list\n",
        "  except FileNotFoundError:\n",
        "    print(\"\\nNo contacts file found. Starting with an empty address book.\")\n",
        "    return ContactList()\n",
        "  except Exception as e:\n",
        "    print(f\"\\nError loading contacts from file: {e}\")\n",
        "    return ContactList()"
      ],
      "metadata": {
        "id": "HBmOLH1oqlzX"
      },
      "execution_count": 59,
      "outputs": []
    },
    {
      "cell_type": "code",
      "source": [
        "if __name__ == \"__main__\":\n",
        "  main()"
      ],
      "metadata": {
        "colab": {
          "base_uri": "https://localhost:8080/"
        },
        "id": "5SmNm8aDm_lV",
        "outputId": "6d6a42b1-7363-4722-c82b-0d793d2242a2"
      },
      "execution_count": 61,
      "outputs": [
        {
          "output_type": "stream",
          "name": "stdout",
          "text": [
            "\n",
            "Contacts loaded from file.\n",
            "\n",
            "Address Book Menu:\n",
            "  add    - Add a new contact\n",
            "  view   - View all contacts\n",
            "  search - Search for a contact by name\n",
            "  delete - Delete a contact by name\n",
            "  exit   - Exit the address book\n",
            "\n",
            "\n",
            "\n",
            "Enter your choice: view\n",
            "\n",
            "Name: ben, Phone Number: 1, E Mail: e\n",
            "Name: abby, Phone Number: 2, E Mail: f\n",
            "\n",
            "Address Book Menu:\n",
            "  add    - Add a new contact\n",
            "  view   - View all contacts\n",
            "  search - Search for a contact by name\n",
            "  delete - Delete a contact by name\n",
            "  exit   - Exit the address book\n",
            "\n",
            "\n",
            "\n",
            "Enter your choice: exit\n",
            "\n",
            "Contacts saved to file.\n",
            "\n",
            "Exiting the address book. Goodbye!\n"
          ]
        }
      ]
    },
    {
      "cell_type": "code",
      "source": [],
      "metadata": {
        "id": "D5QllWfWq7l0"
      },
      "execution_count": null,
      "outputs": []
    }
  ]
}