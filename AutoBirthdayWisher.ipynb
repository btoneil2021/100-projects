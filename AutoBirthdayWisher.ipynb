{
  "nbformat": 4,
  "nbformat_minor": 0,
  "metadata": {
    "colab": {
      "provenance": [],
      "authorship_tag": "ABX9TyOR7qRpVB9S5n8unl8d+BCD",
      "include_colab_link": true
    },
    "kernelspec": {
      "name": "python3",
      "display_name": "Python 3"
    },
    "language_info": {
      "name": "python"
    }
  },
  "cells": [
    {
      "cell_type": "markdown",
      "metadata": {
        "id": "view-in-github",
        "colab_type": "text"
      },
      "source": [
        "<a href=\"https://colab.research.google.com/github/btoneil2021/100-projects/blob/main/AutoBirthdayWisher.ipynb\" target=\"_parent\"><img src=\"https://colab.research.google.com/assets/colab-badge.svg\" alt=\"Open In Colab\"/></a>"
      ]
    },
    {
      "cell_type": "code",
      "execution_count": 1,
      "metadata": {
        "colab": {
          "base_uri": "https://localhost:8080/"
        },
        "id": "QQ3GJg41VsQN",
        "outputId": "30cf7261-a6ea-4dad-98bc-61c4414e4e01"
      },
      "outputs": [
        {
          "output_type": "stream",
          "name": "stdout",
          "text": [
            "Writing contacts.csv\n"
          ]
        }
      ],
      "source": [
        "%%writefile contacts.csv\n",
        "name,birthdate\n",
        "John Doe,1990-06-08\n",
        "Jane Smith,2001-06-09\n",
        "Peter Jones,1985-04-21\n",
        "Mary Brown,2005-06-09"
      ]
    },
    {
      "cell_type": "code",
      "source": [
        "import csv\n",
        "from datetime import datetime"
      ],
      "metadata": {
        "id": "eFisSVK4WCzB"
      },
      "execution_count": 2,
      "outputs": []
    },
    {
      "cell_type": "code",
      "source": [
        "def check_birthdays(file_path):\n",
        "    \"\"\"\n",
        "    Reads a CSV file of contacts and their birthdates, and prints a\n",
        "    birthday message for any contact whose birthday is today.\n",
        "\n",
        "    Args:\n",
        "        file_path (str): The path to the CSV file.\n",
        "    \"\"\"\n",
        "    try:\n",
        "        # datetime.now() is for getting the date right now\n",
        "        today = datetime.now()\n",
        "        today_month_day = (today.month, today.day)\n",
        "        # strftime gives string formatting (%B is June, %b would be Jun)\n",
        "        # %d is 09, %D would be the full date (I like %D better)\n",
        "        print(f\"Checking for birthdays on: {today.strftime('%D')}\")\n",
        "        print(\"-\" * 30)\n",
        "\n",
        "        found_birthday = False\n",
        "\n",
        "        # Open and read the CSV file\n",
        "        with open(file_path, mode='r', newline='') as csvfile:\n",
        "            reader = csv.DictReader(csvfile)\n",
        "\n",
        "            for row in reader:\n",
        "                name = row['name']\n",
        "                birthdate_str = row['birthdate']\n",
        "\n",
        "                # Parse the birthdate string into a datetime object\n",
        "                try:\n",
        "                  # strptime gets the year, month, and day from it\n",
        "                    birthdate_obj = datetime.strptime(birthdate_str, '%Y-%m-%d')\n",
        "                    birthdate_month_day = (birthdate_obj.month, birthdate_obj.day)\n",
        "\n",
        "                    # Compare today's month and day with the contact's birthdate month and day\n",
        "                    if birthdate_month_day == today_month_day:\n",
        "                        print(f\"Happy Birthday, {name}!\")\n",
        "                        found_birthday = True\n",
        "\n",
        "                except ValueError:\n",
        "                    print(f\"Warning: Could not parse date for {name}. Skipping.\")\n",
        "\n",
        "        if not found_birthday:\n",
        "            print(\"No birthdays today.\")\n",
        "\n",
        "    except FileNotFoundError:\n",
        "        print(f\"Error: The file at {file_path} was not found.\")\n",
        "    except Exception as e:\n",
        "        print(f\"An unexpected error occurred: {e}\")"
      ],
      "metadata": {
        "id": "hzqNWlRqV5K9"
      },
      "execution_count": 13,
      "outputs": []
    },
    {
      "cell_type": "code",
      "source": [
        "# Define the file path for the contacts CSV\n",
        "contacts_file = 'contacts.csv'\n",
        "\n",
        "# Execute the function\n",
        "check_birthdays(contacts_file)"
      ],
      "metadata": {
        "colab": {
          "base_uri": "https://localhost:8080/"
        },
        "id": "NCFzdiJKV_Ul",
        "outputId": "f32cc0d6-9e4d-410c-caf4-9ddf8b22e19a"
      },
      "execution_count": 14,
      "outputs": [
        {
          "output_type": "stream",
          "name": "stdout",
          "text": [
            "Checking for birthdays on: 06/09/25\n",
            "------------------------------\n",
            "Happy Birthday, Jane Smith!\n",
            "Happy Birthday, Mary Brown!\n"
          ]
        }
      ]
    },
    {
      "cell_type": "code",
      "source": [],
      "metadata": {
        "id": "u99UnnPyWR91"
      },
      "execution_count": null,
      "outputs": []
    }
  ]
}