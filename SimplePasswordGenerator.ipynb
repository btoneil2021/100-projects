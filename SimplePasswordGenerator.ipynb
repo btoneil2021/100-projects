{
  "nbformat": 4,
  "nbformat_minor": 0,
  "metadata": {
    "colab": {
      "provenance": [],
      "authorship_tag": "ABX9TyMYlLjeH9GBEk8/ZB6UYsOh",
      "include_colab_link": true
    },
    "kernelspec": {
      "name": "python3",
      "display_name": "Python 3"
    },
    "language_info": {
      "name": "python"
    }
  },
  "cells": [
    {
      "cell_type": "markdown",
      "metadata": {
        "id": "view-in-github",
        "colab_type": "text"
      },
      "source": [
        "<a href=\"https://colab.research.google.com/github/btoneil2021/100-projects/blob/main/SimplePasswordGenerator.ipynb\" target=\"_parent\"><img src=\"https://colab.research.google.com/assets/colab-badge.svg\" alt=\"Open In Colab\"/></a>"
      ]
    },
    {
      "cell_type": "code",
      "execution_count": 18,
      "metadata": {
        "id": "z5Adxv6PaPTI"
      },
      "outputs": [],
      "source": [
        "from random import randint"
      ]
    },
    {
      "cell_type": "code",
      "source": [
        "def passwordGenerator(passwordLength, uppercase=True, lowercase=True, numbers=True, symbols=True):\n",
        "\n",
        "  lowercase_list = ['a', 'b', 'c', 'd', 'e', 'f', 'g', 'h', 'i', 'j', 'k', 'l', 'm', 'n', 'o', 'p', 'q', 'r', 's', 't', 'u', 'v', 'w', 'x', 'y', 'z']\n",
        "  # Count: 26\n",
        "\n",
        "  uppercase_list = ['A', 'B', 'C', 'D', 'E', 'F', 'G', 'H', 'I', 'J', 'K', 'L', 'M', 'N', 'O', 'P', 'Q', 'R', 'S', 'T', 'U', 'V', 'W', 'X', 'Y', 'Z']\n",
        "  # Count: 26\n",
        "\n",
        "  numbers_list = ['0', '1', '2', '3', '4', '5', '6', '7', '8', '9']\n",
        "  # Count: 10\n",
        "\n",
        "  symbols_list = ['`', '~', '!', '@', '#', '$', '%', '^', '&', '*', '(', ')', '-', '_', '=', '+', '[', '{', ']', '}', '\\\\', '|', ';', ':', '\\'', '<', '.', '>', '/', '?']\n",
        "  # Count: 30\n",
        "  # NOTE: Cut out ' and \" because you don't normally include them in passwords anyways and would cause edge cases\n",
        "\n",
        "  finalPasswordOptions = []\n",
        "  if uppercase:\n",
        "    finalPasswordOptions.extend(uppercase_list)\n",
        "  if lowercase:\n",
        "    finalPasswordOptions.extend(lowercase_list)\n",
        "  if numbers:\n",
        "    finalPasswordOptions.extend(numbers_list)\n",
        "  if symbols:\n",
        "    finalPasswordOptions.extend(symbols_list)\n",
        "\n",
        "  password = ''\n",
        "  # Try-catch block for this in case everything is set to false\n",
        "  try:\n",
        "    for _ in range(passwordLength):\n",
        "      password += finalPasswordOptions[randint(0, len(finalPasswordOptions)-1)]\n",
        "  except ValueError:\n",
        "    print(\"Cannot Generate Password! All character types set to off!\")\n",
        "    return\n",
        "  return password"
      ],
      "metadata": {
        "id": "AsZ2GQOEbReM"
      },
      "execution_count": 34,
      "outputs": []
    },
    {
      "cell_type": "code",
      "source": [
        "passwordGenerator(200)"
      ],
      "metadata": {
        "colab": {
          "base_uri": "https://localhost:8080/",
          "height": 71
        },
        "id": "nxot5qKreGTF",
        "outputId": "169a2d94-226a-4141-bf46-cd35a599a761"
      },
      "execution_count": 35,
      "outputs": [
        {
          "output_type": "execute_result",
          "data": {
            "text/plain": [
              "\"(JTXvhPG&;sy!m2|QVwt^{8I^uNqN:~Wvm*||s2\\\\V|@T7X3^zH[ZfSNV7}p9LZ@8Cpm]Is0#W`uD>e@<B)2%W9AzBX.S43~GN^_T~ANQI('+(YtWRhCAOyI#%Z+FUGFH{>)Qww'56Gi@C2kH3=ONG-([z)+9IH|cB%(a9W:;e&}N.I3W%H-)`Y$t(FYTS(lJ'Emzs0eQ\""
            ],
            "application/vnd.google.colaboratory.intrinsic+json": {
              "type": "string"
            }
          },
          "metadata": {},
          "execution_count": 35
        }
      ]
    },
    {
      "cell_type": "code",
      "source": [
        "passwordGenerator(200, uppercase=False, lowercase=False, numbers=False, symbols=False)"
      ],
      "metadata": {
        "colab": {
          "base_uri": "https://localhost:8080/"
        },
        "id": "vue0ABpHeIgb",
        "outputId": "1e0a825d-4938-404a-add8-23795b9cc5b8"
      },
      "execution_count": 36,
      "outputs": [
        {
          "output_type": "stream",
          "name": "stdout",
          "text": [
            "Cannot Generate Password! All character types set to off!\n"
          ]
        }
      ]
    },
    {
      "cell_type": "code",
      "source": [
        "passwordGenerator(10, numbers=False, symbols=False)"
      ],
      "metadata": {
        "colab": {
          "base_uri": "https://localhost:8080/",
          "height": 35
        },
        "id": "4fapQksieczn",
        "outputId": "923f0a60-24b1-4f7f-f195-4313028b8c2f"
      },
      "execution_count": 37,
      "outputs": [
        {
          "output_type": "execute_result",
          "data": {
            "text/plain": [
              "'mAIInhLjQz'"
            ],
            "application/vnd.google.colaboratory.intrinsic+json": {
              "type": "string"
            }
          },
          "metadata": {},
          "execution_count": 37
        }
      ]
    },
    {
      "cell_type": "code",
      "source": [],
      "metadata": {
        "id": "wvcXoKAbgmu6"
      },
      "execution_count": null,
      "outputs": []
    }
  ]
}