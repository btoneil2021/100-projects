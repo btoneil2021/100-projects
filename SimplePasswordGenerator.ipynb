{
  "nbformat": 4,
  "nbformat_minor": 0,
  "metadata": {
    "colab": {
      "provenance": [],
      "authorship_tag": "ABX9TyNR7qyfoOkMWqPaCsvNkN+D",
      "include_colab_link": true
    },
    "kernelspec": {
      "name": "python3",
      "display_name": "Python 3"
    },
    "language_info": {
      "name": "python"
    }
  },
  "cells": [
    {
      "cell_type": "markdown",
      "metadata": {
        "id": "view-in-github",
        "colab_type": "text"
      },
      "source": [
        "<a href=\"https://colab.research.google.com/github/btoneil2021/100-projects/blob/main/SimplePasswordGenerator.ipynb\" target=\"_parent\"><img src=\"https://colab.research.google.com/assets/colab-badge.svg\" alt=\"Open In Colab\"/></a>"
      ]
    },
    {
      "cell_type": "code",
      "execution_count": 1,
      "metadata": {
        "id": "z5Adxv6PaPTI"
      },
      "outputs": [],
      "source": [
        "from random import randint"
      ]
    },
    {
      "cell_type": "code",
      "source": [
        "def passwordGenerator(passwordLength, uppercase=True, lowercase=True, numbers=True, symbols=True):\n",
        "\n",
        "  lowercase_list = ['a', 'b', 'c', 'd', 'e', 'f', 'g', 'h', 'i', 'j', 'k', 'l', 'm', 'n', 'o', 'p', 'q', 'r', 's', 't', 'u', 'v', 'w', 'x', 'y', 'z']\n",
        "\n",
        "  uppercase_list = ['A', 'B', 'C', 'D', 'E', 'F', 'G', 'H', 'I', 'J', 'K', 'L', 'M', 'N', 'O', 'P', 'Q', 'R', 'S', 'T', 'U', 'V', 'W', 'X', 'Y', 'Z']\n",
        "\n",
        "  numbers_list = ['0', '1', '2', '3', '4', '5', '6', '7', '8', '9']\n",
        "\n",
        "  symbols_list = ['`', '~', '!', '@', '#', '$', '%', '^', '&', '*', '(', ')', '-', '_', '=', '+', '[', '{', ']', '}', '\\\\', '|', ';', ':', '\\'', '<', '.', '>', '/', '?']\n",
        "\n",
        "  finalPasswordOptions = []\n",
        "  if uppercase:\n",
        "    finalPasswordOptions.extend(uppercase_list)\n",
        "  if lowercase:\n",
        "    finalPasswordOptions.extend(lowercase_list)\n",
        "  if numbers:\n",
        "    finalPasswordOptions.extend(numbers_list)\n",
        "  if symbols:\n",
        "    finalPasswordOptions.extend(symbols_list)\n",
        "\n",
        "  password = ''\n",
        "  try:\n",
        "    for _ in range(passwordLength):\n",
        "      password += finalPasswordOptions[randint(0, len(finalPasswordOptions)-1)]\n",
        "  except ValueError:\n",
        "    print(\"Cannot Generate Password! All character types set to off!\")\n",
        "    return\n",
        "  return password"
      ],
      "metadata": {
        "id": "AsZ2GQOEbReM"
      },
      "execution_count": 6,
      "outputs": []
    },
    {
      "cell_type": "code",
      "source": [
        "passwordGenerator(200)"
      ],
      "metadata": {
        "colab": {
          "base_uri": "https://localhost:8080/",
          "height": 71
        },
        "id": "nxot5qKreGTF",
        "outputId": "f2fccc3f-ade9-4bf2-abfc-8fbb3e0efbe9"
      },
      "execution_count": 7,
      "outputs": [
        {
          "output_type": "execute_result",
          "data": {
            "text/plain": [
              "\"O_Q]Fv97G26`xW@7v%Ncx]zqLL&t~%T^RZ6Y%RJ*qqu`Q0P}u\\\\.vvm/JpK\\\\eyj+4fJ&r9n<<K25YJPZ+R&jb'bgM#Q5!7H{o)Bkb*]ySilhYq'+WySgxOve{Uu~yIYa<~0DMw!Ki`_N~UyZ#=_NMjaT{=e\\\\:QM^&&UqktV#ti)v]?x.GTW)}T{Jp!V^gh]~]ORlswL\\\\;\""
            ],
            "application/vnd.google.colaboratory.intrinsic+json": {
              "type": "string"
            }
          },
          "metadata": {},
          "execution_count": 7
        }
      ]
    },
    {
      "cell_type": "code",
      "source": [
        "passwordGenerator(200, uppercase=False, lowercase=False, numbers=False, symbols=False)"
      ],
      "metadata": {
        "colab": {
          "base_uri": "https://localhost:8080/"
        },
        "id": "vue0ABpHeIgb",
        "outputId": "079ef886-6598-4973-fad5-fb61923f9c4d"
      },
      "execution_count": 8,
      "outputs": [
        {
          "output_type": "stream",
          "name": "stdout",
          "text": [
            "Cannot Generate Password! All character types set to off!\n"
          ]
        }
      ]
    },
    {
      "cell_type": "code",
      "source": [
        "passwordGenerator(10, numbers=False, symbols=False)"
      ],
      "metadata": {
        "colab": {
          "base_uri": "https://localhost:8080/",
          "height": 35
        },
        "id": "4fapQksieczn",
        "outputId": "d92c53da-4ab6-4d47-f969-1999daec9b56"
      },
      "execution_count": 9,
      "outputs": [
        {
          "output_type": "execute_result",
          "data": {
            "text/plain": [
              "'VBtWLqWCSh'"
            ],
            "application/vnd.google.colaboratory.intrinsic+json": {
              "type": "string"
            }
          },
          "metadata": {},
          "execution_count": 9
        }
      ]
    },
    {
      "cell_type": "code",
      "source": [],
      "metadata": {
        "id": "wvcXoKAbgmu6"
      },
      "execution_count": null,
      "outputs": []
    }
  ]
}