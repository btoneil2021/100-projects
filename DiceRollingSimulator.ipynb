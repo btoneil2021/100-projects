{
  "nbformat": 4,
  "nbformat_minor": 0,
  "metadata": {
    "colab": {
      "provenance": [],
      "authorship_tag": "ABX9TyMMmpVe3lK/NnluNtAiiARb",
      "include_colab_link": true
    },
    "kernelspec": {
      "name": "python3",
      "display_name": "Python 3"
    },
    "language_info": {
      "name": "python"
    }
  },
  "cells": [
    {
      "cell_type": "markdown",
      "metadata": {
        "id": "view-in-github",
        "colab_type": "text"
      },
      "source": [
        "<a href=\"https://colab.research.google.com/github/btoneil2021/100-projects/blob/main/DiceRollingSimulator.ipynb\" target=\"_parent\"><img src=\"https://colab.research.google.com/assets/colab-badge.svg\" alt=\"Open In Colab\"/></a>"
      ]
    },
    {
      "cell_type": "code",
      "execution_count": 1,
      "metadata": {
        "id": "WoLidGU1YxDD"
      },
      "outputs": [],
      "source": [
        "from random import randint"
      ]
    },
    {
      "cell_type": "code",
      "source": [
        "def diceRoll(diceNum, diceSides=6):\n",
        "  output = f'{diceNum} dice rolled with {diceSides} sides! Results: '\n",
        "  for _ in range(diceNum):\n",
        "    output += f\"{randint(1,diceSides)}, \"\n",
        "\n",
        "  print(output[:-2])"
      ],
      "metadata": {
        "id": "riRvv6fuY-Qw"
      },
      "execution_count": 6,
      "outputs": []
    },
    {
      "cell_type": "code",
      "source": [
        "diceRoll(2)"
      ],
      "metadata": {
        "colab": {
          "base_uri": "https://localhost:8080/"
        },
        "id": "y4x3iDrfZvlX",
        "outputId": "62b4fd25-13ed-4559-a5c0-c1cc41c61921"
      },
      "execution_count": 7,
      "outputs": [
        {
          "output_type": "stream",
          "name": "stdout",
          "text": [
            "2 dice rolled with 6 sides! Results: 2, 6\n"
          ]
        }
      ]
    },
    {
      "cell_type": "code",
      "source": [
        "diceRoll(2)"
      ],
      "metadata": {
        "colab": {
          "base_uri": "https://localhost:8080/"
        },
        "id": "a_ePZoDWZxT3",
        "outputId": "7dbf69ff-e9fd-4664-b42b-a419b2e25b66"
      },
      "execution_count": 8,
      "outputs": [
        {
          "output_type": "stream",
          "name": "stdout",
          "text": [
            "2 dice rolled with 6 sides! Results: 4, 2\n"
          ]
        }
      ]
    },
    {
      "cell_type": "code",
      "source": [
        "diceRoll(2,10)"
      ],
      "metadata": {
        "colab": {
          "base_uri": "https://localhost:8080/"
        },
        "id": "UvnOXuHeZy3A",
        "outputId": "b18b3811-c1e9-4517-9995-bd3697d886bc"
      },
      "execution_count": 9,
      "outputs": [
        {
          "output_type": "stream",
          "name": "stdout",
          "text": [
            "2 dice rolled with 10 sides! Results: 4, 6\n"
          ]
        }
      ]
    },
    {
      "cell_type": "code",
      "source": [
        "diceRoll(10, 3)"
      ],
      "metadata": {
        "colab": {
          "base_uri": "https://localhost:8080/"
        },
        "id": "WJU6o0POZ1Ti",
        "outputId": "6dda8f1b-68d0-4a1b-f281-0ab88e0b307f"
      },
      "execution_count": 10,
      "outputs": [
        {
          "output_type": "stream",
          "name": "stdout",
          "text": [
            "10 dice rolled with 3 sides! Results: 2, 2, 2, 1, 1, 3, 1, 3, 2, 1\n"
          ]
        }
      ]
    }
  ]
}