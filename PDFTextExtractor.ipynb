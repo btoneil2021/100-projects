{
  "nbformat": 4,
  "nbformat_minor": 0,
  "metadata": {
    "colab": {
      "provenance": [],
      "authorship_tag": "ABX9TyNOLM0H4U0mMk6O+bnKNIhq",
      "include_colab_link": true
    },
    "kernelspec": {
      "name": "python3",
      "display_name": "Python 3"
    },
    "language_info": {
      "name": "python"
    }
  },
  "cells": [
    {
      "cell_type": "markdown",
      "metadata": {
        "id": "view-in-github",
        "colab_type": "text"
      },
      "source": [
        "<a href=\"https://colab.research.google.com/github/btoneil2021/100-projects/blob/main/PDFTextExtractor.ipynb\" target=\"_parent\"><img src=\"https://colab.research.google.com/assets/colab-badge.svg\" alt=\"Open In Colab\"/></a>"
      ]
    },
    {
      "cell_type": "code",
      "execution_count": 1,
      "metadata": {
        "colab": {
          "base_uri": "https://localhost:8080/"
        },
        "id": "Z8SGJz8UDvlU",
        "outputId": "ec1d820a-e530-4e8d-b45a-9d821fda5a27"
      },
      "outputs": [
        {
          "output_type": "stream",
          "name": "stdout",
          "text": [
            "Collecting PyMuPDF\n",
            "  Downloading pymupdf-1.26.1-cp39-abi3-manylinux_2_28_x86_64.whl.metadata (3.4 kB)\n",
            "Downloading pymupdf-1.26.1-cp39-abi3-manylinux_2_28_x86_64.whl (24.1 MB)\n",
            "\u001b[2K   \u001b[90m━━━━━━━━━━━━━━━━━━━━━━━━━━━━━━━━━━━━━━━━\u001b[0m \u001b[32m24.1/24.1 MB\u001b[0m \u001b[31m72.3 MB/s\u001b[0m eta \u001b[36m0:00:00\u001b[0m\n",
            "\u001b[?25hInstalling collected packages: PyMuPDF\n",
            "Successfully installed PyMuPDF-1.26.1\n"
          ]
        }
      ],
      "source": [
        "!pip install PyMuPDF"
      ]
    },
    {
      "cell_type": "code",
      "source": [
        "import fitz\n",
        "import re"
      ],
      "metadata": {
        "id": "EDy_UxpGEusG"
      },
      "execution_count": 10,
      "outputs": []
    },
    {
      "cell_type": "code",
      "source": [
        "def extract_text_from_pdf(pdf_path):\n",
        "    try:\n",
        "        document = fitz.open(pdf_path)\n",
        "        full_text = \"\"\n",
        "        for page_num in range(len(document)):\n",
        "            page = document.load_page(page_num)\n",
        "            full_text += page.get_text()\n",
        "        return full_text\n",
        "    except Exception as e:\n",
        "        print(f\"Error reading PDF file: {e}\")\n",
        "        return None"
      ],
      "metadata": {
        "id": "gQIhgr33ExBU"
      },
      "execution_count": 12,
      "outputs": []
    },
    {
      "cell_type": "code",
      "source": [
        "def analyze_text(text):\n",
        "    if not text:\n",
        "        return {\n",
        "            \"word_count\": 0,\n",
        "            \"character_count\": 0,\n",
        "            \"line_count\": 0\n",
        "        }\n",
        "\n",
        "    words = re.findall(r'\\b\\w+\\b', text.lower())\n",
        "\n",
        "    analysis = {\n",
        "        \"word_count\": len(words),\n",
        "        \"character_count\": len(text),\n",
        "        \"line_count\": len(text.splitlines())\n",
        "    }\n",
        "    return analysis"
      ],
      "metadata": {
        "id": "Ehe9IMJWEzUa"
      },
      "execution_count": 14,
      "outputs": []
    },
    {
      "cell_type": "code",
      "source": [
        "def find_keywords(text, keywords):\n",
        "    keyword_counts = {}\n",
        "    if not text:\n",
        "        return keyword_counts\n",
        "\n",
        "    for keyword in keywords:\n",
        "        count = len(re.findall(r'\\b' + re.escape(keyword) + r'\\b', text, re.IGNORECASE))\n",
        "        keyword_counts[keyword] = count\n",
        "    return keyword_counts"
      ],
      "metadata": {
        "id": "hR92JQd_E1n8"
      },
      "execution_count": 16,
      "outputs": []
    },
    {
      "cell_type": "code",
      "source": [
        "def main():\n",
        "    pdf_file_path = 'cover_letter.pdf'\n",
        "\n",
        "    extracted_text = extract_text_from_pdf(pdf_file_path)\n",
        "\n",
        "    if extracted_text:\n",
        "        text_analysis = analyze_text(extracted_text)\n",
        "\n",
        "        print(\"--- Text Analysis ---\")\n",
        "        print(f\"Word Count: {text_analysis['word_count']}\")\n",
        "        print(f\"Character Count: {text_analysis['character_count']}\")\n",
        "        print(f\"Line Count: {text_analysis['line_count']}\")\n",
        "        print(\"-\" * 21)\n",
        "\n",
        "        keywords_to_find = [\"I \", \"think\", \"position\"]\n",
        "        keyword_results = find_keywords(extracted_text, keywords_to_find)\n",
        "\n",
        "        print(\"\\n--- Keyword Search Results ---\")\n",
        "        for keyword, count in keyword_results.items():\n",
        "            print(f\"'{keyword}': {count} occurrences\")\n",
        "        print(\"-\" * 28)\n",
        "\n",
        "if __name__ == \"__main__\":\n",
        "    main()"
      ],
      "metadata": {
        "colab": {
          "base_uri": "https://localhost:8080/"
        },
        "id": "pDhjDTZZECLL",
        "outputId": "6d961436-c7fb-4f6c-bea6-3d88abf8347e"
      },
      "execution_count": 17,
      "outputs": [
        {
          "output_type": "stream",
          "name": "stdout",
          "text": [
            "--- Text Analysis ---\n",
            "Word Count: 353\n",
            "Character Count: 2170\n",
            "Line Count: 36\n",
            "---------------------\n",
            "\n",
            "--- Keyword Search Results ---\n",
            "'I ': 12 occurrences\n",
            "'think': 0 occurrences\n",
            "'position': 1 occurrences\n",
            "----------------------------\n"
          ]
        }
      ]
    },
    {
      "cell_type": "code",
      "source": [],
      "metadata": {
        "id": "WeUSF57zEFlZ"
      },
      "execution_count": null,
      "outputs": []
    }
  ]
}