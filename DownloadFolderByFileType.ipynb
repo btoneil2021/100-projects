{
  "nbformat": 4,
  "nbformat_minor": 0,
  "metadata": {
    "colab": {
      "provenance": [],
      "authorship_tag": "ABX9TyMWyn12be/G8Vo3g/CfLUGX",
      "include_colab_link": true
    },
    "kernelspec": {
      "name": "python3",
      "display_name": "Python 3"
    },
    "language_info": {
      "name": "python"
    }
  },
  "cells": [
    {
      "cell_type": "markdown",
      "metadata": {
        "id": "view-in-github",
        "colab_type": "text"
      },
      "source": [
        "<a href=\"https://colab.research.google.com/github/btoneil2021/100-projects/blob/main/DownloadFolderByFileType.ipynb\" target=\"_parent\"><img src=\"https://colab.research.google.com/assets/colab-badge.svg\" alt=\"Open In Colab\"/></a>"
      ]
    },
    {
      "cell_type": "code",
      "execution_count": null,
      "metadata": {
        "id": "kGPiknanf_N9"
      },
      "outputs": [],
      "source": [
        "# Using a Zip file of my own creation, not linking here (personal stuff)"
      ]
    },
    {
      "cell_type": "code",
      "source": [
        "zip_file_path = 'DownloadFolderbyFileType.zip'\n",
        "source_folder = '/content'"
      ],
      "metadata": {
        "id": "rt1ovJAZSSYT"
      },
      "execution_count": 12,
      "outputs": []
    },
    {
      "cell_type": "code",
      "source": [
        "import os\n",
        "import shutil"
      ],
      "metadata": {
        "id": "hEfjCqBJTvTB"
      },
      "execution_count": 16,
      "outputs": []
    },
    {
      "cell_type": "code",
      "source": [
        "if not os.path.exists(source_folder):\n",
        "  os.makedirs(source_folder)"
      ],
      "metadata": {
        "id": "RH1yWPxmSoIS"
      },
      "execution_count": 13,
      "outputs": []
    },
    {
      "cell_type": "code",
      "source": [
        "import zipfile\n",
        "\n",
        "try:\n",
        "  with zipfile.ZipFile(zip_file_path, 'r') as zip:\n",
        "    zip.extractall(source_folder)\n",
        "  print(f\"Successfully extracted '{zip_file_path}' to '{source_folder}'\")\n",
        "except FileNotFoundError:\n",
        "    print(f\"ERROR: Zip file not found at '{zip_file_path}'. Please check the path and ensure it's uploaded/mounted correctly.\")\n",
        "except zipfile.BadZipFile:\n",
        "    print(f\"ERROR: The file at '{zip_file_path}' is not a valid zip file or is corrupted.\")"
      ],
      "metadata": {
        "colab": {
          "base_uri": "https://localhost:8080/"
        },
        "id": "VM9rsTyiSuwV",
        "outputId": "3c187f23-b791-4dee-b170-113afdab2c73"
      },
      "execution_count": 14,
      "outputs": [
        {
          "output_type": "stream",
          "name": "stdout",
          "text": [
            "Successfully extracted 'DownloadFolderbyFileType.zip' to '/content'\n"
          ]
        }
      ]
    },
    {
      "cell_type": "code",
      "source": [
        "source_folder = os.path.join(source_folder, 'DownloadFolderbyFileType')"
      ],
      "metadata": {
        "id": "17h6dC_oWTM7"
      },
      "execution_count": 19,
      "outputs": []
    },
    {
      "cell_type": "code",
      "source": [
        "CATEGORIES = {\n",
        "    \"Images\": [\".jpg\", \".jpeg\", \".png\", \".gif\", \".bmp\", \".tiff\", \".svg\", \".heic\"],\n",
        "    \"Documents\": [\".pdf\", \".doc\", \".docx\", \".txt\", \".rtf\", \".odt\", \".xls\", \".xlsx\", \".ppt\", \".pptx\", \".key\"],\n",
        "    \"Videos\": [\".mp4\", \".mov\", \".avi\", \".mkv\", \".wmv\", \".flv\", \".webm\"],\n",
        "    \"Audio\": [\".mp3\", \".wav\", \".aac\", \".ogg\", \".flac\", \".m4a\"],\n",
        "    \"Archives\": [\".zip\", \".rar\", \".tar\", \".gz\", \".7z\"],\n",
        "    \"Scripts\": [\".py\", \".js\", \".html\", \".css\", \".sh\", \".ipynb\"],\n",
        "    \"Executables\": [\".exe\", \".dmg\", \".app\", \".msi\"],\n",
        "}"
      ],
      "metadata": {
        "id": "qfNWLo2xTDID"
      },
      "execution_count": 20,
      "outputs": []
    },
    {
      "cell_type": "code",
      "source": [
        "def organize_folder(folder_path, categories):\n",
        "  OTHER_FOLDER_NAME = \"Other\"\n",
        "  print(f\"Organizing files in: {folder_path}\")\n",
        "\n",
        "  for item in os.listdir(folder_path):\n",
        "    item_path = os.path.join(folder_path, item)\n",
        "\n",
        "    if os.path.isdir(item_path):\n",
        "      print(f\"Skipping directory: {item}\")\n",
        "      continue\n",
        "\n",
        "    _, file_extension = os.path.splitext(item)\n",
        "    file_extension = file_extension.lower()\n",
        "\n",
        "    if not file_extension:\n",
        "      print(f\"Skipping file with no extension: {item}\")\n",
        "      continue\n",
        "\n",
        "    moved = False\n",
        "    for category_name, extensions in categories.items():\n",
        "      if file_extension in extensions:\n",
        "        category_folder_path = os.path.join(folder_path, category_name)\n",
        "\n",
        "        if not os.path.exists(category_folder_path):\n",
        "          os.makedirs(category_folder_path)\n",
        "          print(f\"Started category folder {category_name} at path: {category_folder_path}\")\n",
        "\n",
        "        destination_path = os.path.join(category_folder_path, item)\n",
        "\n",
        "        counter = 1\n",
        "        base_name, ext = os.path.splitext(item)\n",
        "        while os.path.exists(destination_path):\n",
        "          destination_path = os.path.join(category_folder_path, f\"{base_name}_{counter}{ext}\")\n",
        "          counter += 1\n",
        "\n",
        "        shutil.move(item_path, destination_path)\n",
        "        print(f\"Moved {item} to {category_name} folder as '{os.path.basename(destination_path)}'\")\n",
        "        moved = True\n",
        "        break\n",
        "\n",
        "    if not moved:\n",
        "      other_folder_path = os.path.join(folder_path, OTHER_FOLDER_NAME)\n",
        "      if not os.path.exists(other_folder_path):\n",
        "        os.makedirs(other_folder_path)\n",
        "        print(f'Started Other folder at path: {other_folder_path}')\n",
        "\n",
        "      destination_path = os.path.join(other_folder_path, item)\n",
        "\n",
        "      counter = 1\n",
        "      base_name, ext = os.path.splitext(item)\n",
        "      while os.path.exists(destination_path):\n",
        "        destination_path = os.path.join(other_folder_path, f\"{base_name}_{counter}{ext}\")\n",
        "        counter += 1\n",
        "\n",
        "      shutil.move(item_path, destination_path)\n",
        "      print(f\"Moved {item} to Other folder as '{os.path.basename(destination_path)}'\")\n",
        "\n",
        "  print(\"\\nFolder organization complete!\")"
      ],
      "metadata": {
        "id": "gzA-L0wCTpT6"
      },
      "execution_count": 21,
      "outputs": []
    },
    {
      "cell_type": "code",
      "source": [
        "# This next cell works, I just ran it again so you can't see the names of my files"
      ],
      "metadata": {
        "id": "USs894QdWxgR"
      },
      "execution_count": null,
      "outputs": []
    },
    {
      "cell_type": "code",
      "source": [
        "print(f\"Source folder to organize: {source_folder}\")\n",
        "if os.path.exists(source_folder):\n",
        "  organize_folder(source_folder, CATEGORIES)\n",
        "else:\n",
        "  print(\"Source folder does not exist.\")"
      ],
      "metadata": {
        "colab": {
          "base_uri": "https://localhost:8080/",
          "height": 216
        },
        "id": "dvTlzxGpVrOg",
        "outputId": "1698e93b-23f1-4099-802d-a02d9b9eb190"
      },
      "execution_count": 1,
      "outputs": [
        {
          "output_type": "error",
          "ename": "NameError",
          "evalue": "name 'source_folder' is not defined",
          "traceback": [
            "\u001b[0;31m---------------------------------------------------------------------------\u001b[0m",
            "\u001b[0;31mNameError\u001b[0m                                 Traceback (most recent call last)",
            "\u001b[0;32m<ipython-input-1-acc5cda71ddd>\u001b[0m in \u001b[0;36m<cell line: 0>\u001b[0;34m()\u001b[0m\n\u001b[0;32m----> 1\u001b[0;31m \u001b[0mprint\u001b[0m\u001b[0;34m(\u001b[0m\u001b[0;34mf\"Source folder to organize: {source_folder}\"\u001b[0m\u001b[0;34m)\u001b[0m\u001b[0;34m\u001b[0m\u001b[0;34m\u001b[0m\u001b[0m\n\u001b[0m\u001b[1;32m      2\u001b[0m \u001b[0;32mif\u001b[0m \u001b[0mos\u001b[0m\u001b[0;34m.\u001b[0m\u001b[0mpath\u001b[0m\u001b[0;34m.\u001b[0m\u001b[0mexists\u001b[0m\u001b[0;34m(\u001b[0m\u001b[0msource_folder\u001b[0m\u001b[0;34m)\u001b[0m\u001b[0;34m:\u001b[0m\u001b[0;34m\u001b[0m\u001b[0;34m\u001b[0m\u001b[0m\n\u001b[1;32m      3\u001b[0m   \u001b[0morganize_folder\u001b[0m\u001b[0;34m(\u001b[0m\u001b[0msource_folder\u001b[0m\u001b[0;34m,\u001b[0m \u001b[0mCATEGORIES\u001b[0m\u001b[0;34m)\u001b[0m\u001b[0;34m\u001b[0m\u001b[0;34m\u001b[0m\u001b[0m\n\u001b[1;32m      4\u001b[0m \u001b[0;32melse\u001b[0m\u001b[0;34m:\u001b[0m\u001b[0;34m\u001b[0m\u001b[0;34m\u001b[0m\u001b[0m\n\u001b[1;32m      5\u001b[0m   \u001b[0mprint\u001b[0m\u001b[0;34m(\u001b[0m\u001b[0;34m\"Source folder does not exist.\"\u001b[0m\u001b[0;34m)\u001b[0m\u001b[0;34m\u001b[0m\u001b[0;34m\u001b[0m\u001b[0m\n",
            "\u001b[0;31mNameError\u001b[0m: name 'source_folder' is not defined"
          ]
        }
      ]
    },
    {
      "cell_type": "code",
      "source": [],
      "metadata": {
        "id": "09hVpxJDV00B"
      },
      "execution_count": null,
      "outputs": []
    }
  ]
}