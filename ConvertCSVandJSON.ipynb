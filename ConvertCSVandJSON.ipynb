{
  "nbformat": 4,
  "nbformat_minor": 0,
  "metadata": {
    "colab": {
      "provenance": [],
      "authorship_tag": "ABX9TyNuOJobZhaSy5K1BEKz5dri",
      "include_colab_link": true
    },
    "kernelspec": {
      "name": "python3",
      "display_name": "Python 3"
    },
    "language_info": {
      "name": "python"
    }
  },
  "cells": [
    {
      "cell_type": "markdown",
      "metadata": {
        "id": "view-in-github",
        "colab_type": "text"
      },
      "source": [
        "<a href=\"https://colab.research.google.com/github/btoneil2021/100-projects/blob/main/ConvertCSVandJSON.ipynb\" target=\"_parent\"><img src=\"https://colab.research.google.com/assets/colab-badge.svg\" alt=\"Open In Colab\"/></a>"
      ]
    },
    {
      "cell_type": "code",
      "execution_count": 5,
      "metadata": {
        "id": "TsEa6W0NSuT2"
      },
      "outputs": [],
      "source": [
        "import csv\n",
        "import json\n",
        "import os"
      ]
    },
    {
      "cell_type": "code",
      "source": [
        "csv_content = \"\"\"Name,Age,City\n",
        "Ben,21,Boston\n",
        "Ethan,22, St. Louis\n",
        "Aidan,22,Newark\"\"\"\n",
        "\n",
        "with open('sample.csv', 'w') as f:\n",
        "  f.write(csv_content)\n",
        "\n",
        "print(\"sample.csv created in Colab environment.\")"
      ],
      "metadata": {
        "colab": {
          "base_uri": "https://localhost:8080/"
        },
        "id": "qkEUGA-cTIgG",
        "outputId": "3397776a-ab78-4a59-9926-ad20056f5ad1"
      },
      "execution_count": 11,
      "outputs": [
        {
          "output_type": "stream",
          "name": "stdout",
          "text": [
            "sample.csv created in Colab environment.\n"
          ]
        }
      ]
    },
    {
      "cell_type": "code",
      "source": [
        "def csv_to_json(csv_file_path, json_file_path):\n",
        "  data = []\n",
        "\n",
        "  try:\n",
        "    with open(csv_file_path, 'r', encoding='utf-8') as csv_file:\n",
        "      csv_reader = csv.DictReader(csv_file)\n",
        "      for row in csv_reader:\n",
        "        data.append(row)\n",
        "\n",
        "  except FileNotFoundError:\n",
        "    print(f\"File not found: {csv_file_path}\")\n",
        "    return False\n",
        "  except Exception as e:\n",
        "    print(f\"An error occurred: {e}\")\n",
        "    return False\n",
        "\n",
        "  try:\n",
        "    with open(json_file_path, 'w', encoding='utf-8') as json_file:\n",
        "      json.dump(data, json_file, ensure_ascii=False, indent=2)\n",
        "    print(f\"Successfully converted {csv_file_path} to {json_file_path}\")\n",
        "    return True\n",
        "  except Exception as e:\n",
        "    print(f\"An error occurred while writing to {json_file_path}: {e}\")\n",
        "    return False"
      ],
      "metadata": {
        "id": "nnliPnUUTlKf"
      },
      "execution_count": 12,
      "outputs": []
    },
    {
      "cell_type": "code",
      "source": [
        "csv_input_path = 'sample.csv'\n",
        "json_output_path = 'output.json'\n",
        "\n",
        "if not os.path.exists(csv_input_path):\n",
        "  print(f\"{csv_input_path} does not exist.\")\n",
        "else:\n",
        "  if csv_to_json(csv_input_path, json_output_path):\n",
        "    with open(json_output_path, 'r') as f:\n",
        "      print(f.read())"
      ],
      "metadata": {
        "colab": {
          "base_uri": "https://localhost:8080/"
        },
        "id": "NAOI3_wFUUfK",
        "outputId": "b3d6e9ce-5501-4b41-d232-a973c5fae3a7"
      },
      "execution_count": 13,
      "outputs": [
        {
          "output_type": "stream",
          "name": "stdout",
          "text": [
            "Successfully converted sample.csv to output.json\n",
            "[\n",
            "  {\n",
            "    \"Name\": \"Ben\",\n",
            "    \"Age\": \"21\",\n",
            "    \"City\": \"Boston\"\n",
            "  },\n",
            "  {\n",
            "    \"Name\": \"Ethan\",\n",
            "    \"Age\": \"22\",\n",
            "    \"City\": \" St. Louis\"\n",
            "  },\n",
            "  {\n",
            "    \"Name\": \"Aidan\",\n",
            "    \"Age\": \"22\",\n",
            "    \"City\": \"Newark\"\n",
            "  }\n",
            "]\n"
          ]
        }
      ]
    },
    {
      "cell_type": "code",
      "source": [
        "json_data_content = \"\"\"\n",
        "[\n",
        "    {\n",
        "        \"ID\": \"1\",\n",
        "        \"Product\": \"Laptop\",\n",
        "        \"Price\": \"1200\"\n",
        "    },\n",
        "    {\n",
        "        \"ID\": \"2\",\n",
        "        \"Product\": \"Mouse\",\n",
        "        \"Price\": \"25\"\n",
        "    },\n",
        "    {\n",
        "        \"ID\": \"3\",\n",
        "        \"Product\": \"Keyboard\",\n",
        "        \"Price\": \"75\"\n",
        "    }\n",
        "]\n",
        "\"\"\"\n",
        "with open('sample.json', 'w') as f:\n",
        "    f.write(json_data_content)\n",
        "print(\"sample.json created in Colab environment.\")"
      ],
      "metadata": {
        "colab": {
          "base_uri": "https://localhost:8080/"
        },
        "id": "HjyKSwW2UpO2",
        "outputId": "264d8293-7cca-498c-d151-9e613cd403c2"
      },
      "execution_count": 14,
      "outputs": [
        {
          "output_type": "stream",
          "name": "stdout",
          "text": [
            "sample.json created in Colab environment.\n"
          ]
        }
      ]
    },
    {
      "cell_type": "code",
      "source": [
        "def json_to_csv(json_file_path, csv_file_path):\n",
        "  try:\n",
        "    with open(json_file_path, 'r', encoding='utf-8') as json_file:\n",
        "      data = json.load(json_file)\n",
        "  except FileNotFoundError:\n",
        "    print(f\"File not found: {json_file_path}\")\n",
        "    return False\n",
        "  except json.JSONDecodeError as e:\n",
        "    print(f\"JSON decoding error: {e}\")\n",
        "    return False\n",
        "\n",
        "  if not data or not isinstance(data, list) or not all(isinstance(item, dict) for item in data):\n",
        "    print(\"Invalid JSON data format.\")\n",
        "    return False\n",
        "\n",
        "  try:\n",
        "    with open(csv_file_path, 'w', newline='', encoding='utf-8') as csv_file:\n",
        "      headers = data[0].keys()\n",
        "\n",
        "      csv_writer = csv.DictWriter(csv_file, fieldnames=headers)\n",
        "      csv_writer.writeheader()\n",
        "      csv_writer.writerows(data)\n",
        "\n",
        "    print(f\"Successfully converted {json_file_path} to {csv_file_path}\")\n",
        "    return True\n",
        "  except Exception as e:\n",
        "    print(f\"An error occurred while writing to {csv_file_path}: {e}\")\n",
        "    return False"
      ],
      "metadata": {
        "id": "m7YKyrdnU3pY"
      },
      "execution_count": 15,
      "outputs": []
    },
    {
      "cell_type": "code",
      "source": [
        "json_input_path = 'sample.json'\n",
        "csv_output_path = 'output_from_json.csv'\n",
        "\n",
        "if not os.path.exists(json_input_path):\n",
        "    print(f\"{json_input_path} does not exist. Please ensure it's created first.\")\n",
        "else:\n",
        "    if json_to_csv(json_input_path, csv_output_path):\n",
        "        with open(csv_output_path, 'r') as f:\n",
        "            print(\"\\nGenerated CSV content:\")\n",
        "            print(f.read())"
      ],
      "metadata": {
        "colab": {
          "base_uri": "https://localhost:8080/"
        },
        "id": "ctxo5pD-VzUm",
        "outputId": "97924008-a339-4f5b-a118-558d828593e4"
      },
      "execution_count": 16,
      "outputs": [
        {
          "output_type": "stream",
          "name": "stdout",
          "text": [
            "Successfully converted sample.json to output_from_json.csv\n",
            "\n",
            "Generated CSV content:\n",
            "ID,Product,Price\n",
            "1,Laptop,1200\n",
            "2,Mouse,25\n",
            "3,Keyboard,75\n",
            "\n"
          ]
        }
      ]
    },
    {
      "cell_type": "code",
      "source": [],
      "metadata": {
        "id": "-dmYRv7OW_3c"
      },
      "execution_count": null,
      "outputs": []
    }
  ]
}