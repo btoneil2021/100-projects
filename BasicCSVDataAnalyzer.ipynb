{
  "nbformat": 4,
  "nbformat_minor": 0,
  "metadata": {
    "colab": {
      "provenance": [],
      "authorship_tag": "ABX9TyOLQYECLgzQVqkVtaPhYX/g",
      "include_colab_link": true
    },
    "kernelspec": {
      "name": "python3",
      "display_name": "Python 3"
    },
    "language_info": {
      "name": "python"
    }
  },
  "cells": [
    {
      "cell_type": "markdown",
      "metadata": {
        "id": "view-in-github",
        "colab_type": "text"
      },
      "source": [
        "<a href=\"https://colab.research.google.com/github/btoneil2021/100-projects/blob/main/BasicCSVDataAnalyzer.ipynb\" target=\"_parent\"><img src=\"https://colab.research.google.com/assets/colab-badge.svg\" alt=\"Open In Colab\"/></a>"
      ]
    },
    {
      "cell_type": "code",
      "execution_count": 6,
      "metadata": {
        "id": "fZ5QavR2Y3q9"
      },
      "outputs": [],
      "source": [
        "import csv\n",
        "import pandas as pd"
      ]
    },
    {
      "cell_type": "code",
      "source": [
        "filename = 'sales_data.csv'\n",
        "\n",
        "csv_data = \"\"\"ProductID,ProductName,Category,Price,QuantitySold\n",
        "101,Laptop,Electronics,1200,15\n",
        "102,Mouse,Electronics,25,150\n",
        "103,Keyboard,Electronics,75,100\n",
        "104,Desk Lamp,Home Goods,45,60\n",
        "105,Notebook,Stationery,5,250\n",
        "106,Pen Set,Stationery,10,300\n",
        "107,Coffee Maker,Appliances,80,40\n",
        "108,Toaster,Appliances,35,70\n",
        "109,Gaming Mouse,Electronics,60,90\n",
        "110,Mechanical Keyboard,Electronics,150,50\"\"\"\n",
        "\n",
        "# Open file\n",
        "with open(filename, 'w', encoding='utf-8') as f:\n",
        "    f.write(csv_data)"
      ],
      "metadata": {
        "id": "Y8dhDl_NZE_h"
      },
      "execution_count": 10,
      "outputs": []
    },
    {
      "cell_type": "code",
      "source": [
        "# Use pandas to get the DataFrame\n",
        "df = pd.read_csv('sales_data.csv')"
      ],
      "metadata": {
        "id": "0wMucfp4fp9C"
      },
      "execution_count": 11,
      "outputs": []
    },
    {
      "cell_type": "code",
      "source": [
        "# Use .head() to display the first 5 rows\n",
        "print(\"Initial Data Display (First 5 Rows):\")\n",
        "print(df.head())"
      ],
      "metadata": {
        "colab": {
          "base_uri": "https://localhost:8080/"
        },
        "id": "7fJGgFG6Qymw",
        "outputId": "95c034dd-6b0c-4df8-87ed-300354701bc0"
      },
      "execution_count": 12,
      "outputs": [
        {
          "output_type": "stream",
          "name": "stdout",
          "text": [
            "Initial Data Display (First 5 Rows):\n",
            "   ProductID ProductName     Category  Price  QuantitySold\n",
            "0        101      Laptop  Electronics   1200            15\n",
            "1        102       Mouse  Electronics     25           150\n",
            "2        103    Keyboard  Electronics     75           100\n",
            "3        104   Desk Lamp   Home Goods     45            60\n",
            "4        105    Notebook   Stationery      5           250\n"
          ]
        }
      ]
    },
    {
      "cell_type": "code",
      "source": [
        "# Use a boolean series to display anything where price is greater than 100\n",
        "high_value_products = df[df['Price'] > 100]\n",
        "\n",
        "print(\"\\nProducts with Price > $100:\")\n",
        "print(high_value_products)"
      ],
      "metadata": {
        "colab": {
          "base_uri": "https://localhost:8080/"
        },
        "id": "ucSA6ZBQQ9W9",
        "outputId": "f0ba42cc-c317-4e2c-df3d-5a8c378d3c13"
      },
      "execution_count": 13,
      "outputs": [
        {
          "output_type": "stream",
          "name": "stdout",
          "text": [
            "\n",
            "Products with Price > $100:\n",
            "   ProductID          ProductName     Category  Price  QuantitySold\n",
            "0        101               Laptop  Electronics   1200            15\n",
            "9        110  Mechanical Keyboard  Electronics    150            50\n"
          ]
        }
      ]
    },
    {
      "cell_type": "code",
      "source": [
        "# .sort_values() to sort price by ascending\n",
        "sorted_by_price = df.sort_values(by='Price')\n",
        "\n",
        "print(\"\\nData Sorted by Price (Ascending):\")\n",
        "print(sorted_by_price)"
      ],
      "metadata": {
        "colab": {
          "base_uri": "https://localhost:8080/"
        },
        "id": "7BNnm0B-RHpW",
        "outputId": "c12733c6-0393-4676-8090-4edfc68d842d"
      },
      "execution_count": 14,
      "outputs": [
        {
          "output_type": "stream",
          "name": "stdout",
          "text": [
            "\n",
            "Data Sorted by Price (Ascending):\n",
            "   ProductID          ProductName     Category  Price  QuantitySold\n",
            "4        105             Notebook   Stationery      5           250\n",
            "5        106              Pen Set   Stationery     10           300\n",
            "1        102                Mouse  Electronics     25           150\n",
            "7        108              Toaster   Appliances     35            70\n",
            "3        104            Desk Lamp   Home Goods     45            60\n",
            "8        109         Gaming Mouse  Electronics     60            90\n",
            "2        103             Keyboard  Electronics     75           100\n",
            "6        107         Coffee Maker   Appliances     80            40\n",
            "9        110  Mechanical Keyboard  Electronics    150            50\n",
            "0        101               Laptop  Electronics   1200            15\n"
          ]
        }
      ]
    },
    {
      "cell_type": "code",
      "source": [
        "# parameter for sort_values to sort by descending instead\n",
        "sorted_by_units_sold_desc = df.sort_values(by='QuantitySold', ascending=False)\n",
        "\n",
        "print(\"\\nData Sorted by Units Sold (Descending):\")\n",
        "print(sorted_by_units_sold_desc)"
      ],
      "metadata": {
        "colab": {
          "base_uri": "https://localhost:8080/"
        },
        "id": "W3DcPOt0RSd8",
        "outputId": "9bfc333f-821b-43cd-8e1a-ff22264b73ff"
      },
      "execution_count": 16,
      "outputs": [
        {
          "output_type": "stream",
          "name": "stdout",
          "text": [
            "\n",
            "Data Sorted by Units Sold (Descending):\n",
            "   ProductID          ProductName     Category  Price  QuantitySold\n",
            "5        106              Pen Set   Stationery     10           300\n",
            "4        105             Notebook   Stationery      5           250\n",
            "1        102                Mouse  Electronics     25           150\n",
            "2        103             Keyboard  Electronics     75           100\n",
            "8        109         Gaming Mouse  Electronics     60            90\n",
            "7        108              Toaster   Appliances     35            70\n",
            "3        104            Desk Lamp   Home Goods     45            60\n",
            "9        110  Mechanical Keyboard  Electronics    150            50\n",
            "6        107         Coffee Maker   Appliances     80            40\n",
            "0        101               Laptop  Electronics   1200            15\n"
          ]
        }
      ]
    },
    {
      "cell_type": "code",
      "source": [
        "# Getting the mean price and quantity\n",
        "mean_price = df['Price'].mean()\n",
        "mean_units_sold = df['QuantitySold'].mean()\n",
        "\n",
        "print(\"\\nSummary Statistics:\")\n",
        "print(f\"Mean Price: ${mean_price:.2f}\")\n",
        "print(f\"Mean Units Sold: {mean_units_sold:.2f}\")"
      ],
      "metadata": {
        "colab": {
          "base_uri": "https://localhost:8080/"
        },
        "id": "o6WV3Wd3RV4c",
        "outputId": "ba4450f2-7172-4a4c-d138-06f07547c623"
      },
      "execution_count": 18,
      "outputs": [
        {
          "output_type": "stream",
          "name": "stdout",
          "text": [
            "\n",
            "Summary Statistics:\n",
            "Mean Price: $168.50\n",
            "Mean Units Sold: 112.50\n"
          ]
        }
      ]
    },
    {
      "cell_type": "code",
      "source": [
        "# Getting the mode category\n",
        "mode_category = df['Category'].mode()[0]\n",
        "\n",
        "print(f\"Mode of Category: {mode_category}\")"
      ],
      "metadata": {
        "colab": {
          "base_uri": "https://localhost:8080/"
        },
        "id": "UEMxZTCsRbRs",
        "outputId": "2d340856-7343-4ee3-f6b0-8c44be39d6fd"
      },
      "execution_count": 22,
      "outputs": [
        {
          "output_type": "stream",
          "name": "stdout",
          "text": [
            "Mode of Category: Electronics\n"
          ]
        }
      ]
    },
    {
      "cell_type": "code",
      "source": [
        "# Getting basic stats summary for the numerical columns\n",
        "print(\"\\nComprehensive Summary Statistics for Numerical Columns:\")\n",
        "print(df.describe())"
      ],
      "metadata": {
        "colab": {
          "base_uri": "https://localhost:8080/"
        },
        "id": "F6hx0malRhQd",
        "outputId": "a8a417ef-4868-4ad4-d859-b729769ce92e"
      },
      "execution_count": 23,
      "outputs": [
        {
          "output_type": "stream",
          "name": "stdout",
          "text": [
            "\n",
            "Comprehensive Summary Statistics for Numerical Columns:\n",
            "       ProductID        Price  QuantitySold\n",
            "count   10.00000    10.000000     10.000000\n",
            "mean   105.50000   168.500000    112.500000\n",
            "std      3.02765   364.874788     93.904502\n",
            "min    101.00000     5.000000     15.000000\n",
            "25%    103.25000    27.500000     52.500000\n",
            "50%    105.50000    52.500000     80.000000\n",
            "75%    107.75000    78.750000    137.500000\n",
            "max    110.00000  1200.000000    300.000000\n"
          ]
        }
      ]
    }
  ]
}