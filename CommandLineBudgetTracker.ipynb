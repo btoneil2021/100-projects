{
  "nbformat": 4,
  "nbformat_minor": 0,
  "metadata": {
    "colab": {
      "provenance": [],
      "authorship_tag": "ABX9TyOpaGpaJDVJNUdyjrvWSIxv",
      "include_colab_link": true
    },
    "kernelspec": {
      "name": "python3",
      "display_name": "Python 3"
    },
    "language_info": {
      "name": "python"
    }
  },
  "cells": [
    {
      "cell_type": "markdown",
      "metadata": {
        "id": "view-in-github",
        "colab_type": "text"
      },
      "source": [
        "<a href=\"https://colab.research.google.com/github/btoneil2021/100-projects/blob/main/CommandLineBudgetTracker.ipynb\" target=\"_parent\"><img src=\"https://colab.research.google.com/assets/colab-badge.svg\" alt=\"Open In Colab\"/></a>"
      ]
    },
    {
      "cell_type": "code",
      "execution_count": 1,
      "metadata": {
        "colab": {
          "base_uri": "https://localhost:8080/",
          "height": 89
        },
        "id": "9ZB6vHaMr3B8",
        "outputId": "5537174d-b5fb-4f52-84bf-215724832411"
      },
      "outputs": [
        {
          "output_type": "execute_result",
          "data": {
            "text/plain": [
              "'\\nHow I\\'d like to store the data.\\n\\nTransaction Info:\\n* Date: When the transaction occurred.\\n* Description: What the transaction was for (e.g., \"Groceries,\" \"Salary,\" \"Coffee\").\\n* Type: Whether it\\'s \"Income\" or \"Expense.\"\\n* Amount: The monetary value.\\n* Category: A way to group similar transactions\\n\\nCSV File for Storage: transactions.csv\\n'"
            ],
            "application/vnd.google.colaboratory.intrinsic+json": {
              "type": "string"
            }
          },
          "metadata": {},
          "execution_count": 1
        }
      ],
      "source": [
        "'''\n",
        "How I'd like to store the data.\n",
        "\n",
        "Transaction Info:\n",
        "* Date: When the transaction occurred.\n",
        "* Description: What the transaction was for (e.g., \"Groceries,\" \"Salary,\" \"Coffee\").\n",
        "* Type: Whether it's \"Income\" or \"Expense.\"\n",
        "* Amount: The monetary value.\n",
        "* Category: A way to group similar transactions\n",
        "\n",
        "CSV File for Storage: transactions.csv\n",
        "'''"
      ]
    },
    {
      "cell_type": "code",
      "source": [
        "import datetime\n",
        "import csv\n",
        "import os"
      ],
      "metadata": {
        "id": "gxktzXdpt5N9"
      },
      "execution_count": 12,
      "outputs": []
    },
    {
      "cell_type": "code",
      "source": [
        "# Get transaction information from the user\n",
        "def get_transaction_info():\n",
        "  while True:\n",
        "    date = input(\"Enter the date of the transaction (YYYY-MM-DD, or leave blank for today): \").strip()\n",
        "    if not date:\n",
        "      date = datetime.date.today()\n",
        "      break\n",
        "    try:\n",
        "      date = datetime.datetime.strptime(date, \"%Y-%m-%d\").date()\n",
        "      break\n",
        "    except ValueError:\n",
        "      print(\"Invalid date format. Please use YYYY-MM-DD.\")\n",
        "\n",
        "  description = input(\"Enter a description for the transaction: \").strip()\n",
        "  while not description:\n",
        "    print('Description cannot be empty.')\n",
        "    description = input(\"Enter a description for the transaction: \").strip()\n",
        "\n",
        "  while True:\n",
        "    transaction_type = input(\"Is this a 'Income' or 'Expense' transaction? \").strip().capitalize()\n",
        "    if transaction_type in ['Income', 'Expense']:\n",
        "      break\n",
        "    else:\n",
        "      print(\"Invalid transaction type. Please enter 'Income' or 'Expense'.\")\n",
        "\n",
        "  while True:\n",
        "    try:\n",
        "      amount = float(input(\"Enter the amount of the transaction: \").strip())\n",
        "      break\n",
        "    except ValueError:\n",
        "      print(\"Invalid amount. Please enter a valid number.\")\n",
        "\n",
        "  while True:\n",
        "    category = input(\"Enter a category for the transaction: \").strip()\n",
        "    if category:\n",
        "      break\n",
        "    else:\n",
        "      print(\"Category cannot be empty.\")\n",
        "  return {\n",
        "      'date': date.strftime(\"%Y-%m-%d\"),\n",
        "      'description': description,\n",
        "      'type': transaction_type,\n",
        "      'amount': amount,\n",
        "      'category': category\n",
        "  }"
      ],
      "metadata": {
        "id": "JkR4YS7Atblg"
      },
      "execution_count": 3,
      "outputs": []
    },
    {
      "cell_type": "code",
      "source": [
        "def save_transaction_to_csv(transaction):\n",
        "  file_exists = os.path.isfile(file_name)\n",
        "  try:\n",
        "    with open(file_name, 'a', newline='') as file:\n",
        "      # Initialize a dictionary writer\n",
        "      writer = csv.DictWriter(file, fieldnames=transaction.keys())\n",
        "\n",
        "      # If the file doesn't exist, make a header\n",
        "      if not file_exists:\n",
        "        writer.writeheader()\n",
        "\n",
        "      # Write row\n",
        "      writer.writerow(transaction)\n",
        "    print(\"Transaction Saved Successfully!\")\n",
        "  except IOError:\n",
        "    print(f\"Error: Could not write to file {file_name}.\")\n",
        "  except Exception as e:\n",
        "    print(f\"An error occurred: {e}\")"
      ],
      "metadata": {
        "id": "RGXQXktWv_qn"
      },
      "execution_count": 4,
      "outputs": []
    },
    {
      "cell_type": "code",
      "source": [
        "def load_transactions_from_csv(file_name):\n",
        "  transactions = []\n",
        "  try:\n",
        "    with open(file_name, 'r') as file:\n",
        "      reader = csv.DictReader(file)\n",
        "      for row in reader:\n",
        "        try:\n",
        "          row['date'] = datetime.datetime.strptime(row['date'], \"%Y-%m-%d\").date()\n",
        "        except ValueError:\n",
        "          print(f\"Warning: Invalid date format in row {row}.\")\n",
        "          continue\n",
        "\n",
        "        try:\n",
        "          row['amount'] = float(row['amount'])\n",
        "        except ValueError:\n",
        "          print(f\"Warning: Invalid amount format in row {row}.\")\n",
        "          continue\n",
        "        transactions.append(dict(row))\n",
        "  except FileNotFoundError:\n",
        "    print(f\"Error: File {file_name} not found.\")\n",
        "  except Exception as e:\n",
        "    print(f\"An error occurred: {e}\")\n",
        "  return transactions"
      ],
      "metadata": {
        "id": "2puTKf36x6xA"
      },
      "execution_count": 15,
      "outputs": []
    },
    {
      "cell_type": "code",
      "source": [
        "def summary(transactions):\n",
        "  total_income = 0\n",
        "  total_expenses = 0\n",
        "  for transaction in transactions:\n",
        "    if not isinstance(transaction.get('amount'), (int, float)):\n",
        "      print(f\"Warning: Invalid amount format in row {transaction}.\")\n",
        "      continue\n",
        "    if transaction['type'] == 'Income':\n",
        "      total_income += transaction['amount']\n",
        "    else:\n",
        "      total_expenses += transaction['amount']\n",
        "\n",
        "  balance = total_income - total_expenses\n",
        "\n",
        "  print(f\"\\n------ Summary ------\")\n",
        "  print(f\"Total Income: ${total_income:.2f}\")\n",
        "  print(f\"Total Expenses: ${total_expenses:.2f}\")\n",
        "  print(f\"Balance: ${balance:.2f}\")\n",
        "  print(\"----------------------\")"
      ],
      "metadata": {
        "id": "h_QAyVIG6pPj"
      },
      "execution_count": 7,
      "outputs": []
    },
    {
      "cell_type": "code",
      "source": [
        "def view_all_transactions(transactions):\n",
        "  if not transactions:\n",
        "    print(\"\\nNo transactions recorded yet.\")\n",
        "    return\n",
        "\n",
        "  print(\"\\n------ All Transactions ------\")\n",
        "  print(f\"{'Date':<12} | {'Description':<30} | {'Type':<10} | {'Amount':>10} | {'Category':<20}\")\n",
        "  print(\"-\" * 80)\n",
        "\n",
        "  for transaction in transactions:\n",
        "    date = transaction['date']\n",
        "    description = transaction['description']\n",
        "    transaction_type = transaction['type']\n",
        "    amount = transaction['amount']\n",
        "    category = transaction['category']\n",
        "    print(f\"{date:<12} | {description:<30} | {transaction_type:<10} | ${amount:>10.2f} | {category:<20}\")\n",
        "\n",
        "  print(\"-\" * 80)"
      ],
      "metadata": {
        "id": "15XVoUMz7zQ0"
      },
      "execution_count": 9,
      "outputs": []
    },
    {
      "cell_type": "code",
      "source": [
        "def main():\n",
        "  file_name = 'transactions.csv'\n",
        "  transactions = load_transactions_from_csv(file_name)\n",
        "  while True:\n",
        "    print(\"\\nBudget Tracker Menu:\" +\n",
        "          \"\\n1. Add Transaction\" +\n",
        "          \"\\n2. View All Transactions\" +\n",
        "          \"\\n3. Summary\" +\n",
        "          \"\\n4. Quit\")\n",
        "\n",
        "    choice = input(\"\\nEnter your choice (1/2/3/4): \")\n",
        "\n",
        "    if choice == '1':\n",
        "      transaction = get_transaction_info()\n",
        "      save_transaction_to_csv(transaction)\n",
        "    elif choice == '2':\n",
        "      transactions = load_transactions_from_csv(file_name)\n",
        "      view_all_transactions(transactions)\n",
        "    elif choice == '3':\n",
        "      transactions = load_transactions_from_csv(file_name)\n",
        "      summary(transactions)\n",
        "    elif choice == '4':\n",
        "      print(\"Goodbye!\")\n",
        "      break\n",
        "    else:\n",
        "      print(\"Invalid choice. Please select a valid option.\")"
      ],
      "metadata": {
        "id": "e9IZcUcBxiYH"
      },
      "execution_count": 18,
      "outputs": []
    },
    {
      "cell_type": "code",
      "source": [
        "if __name__ == '__main__':\n",
        "  main()"
      ],
      "metadata": {
        "colab": {
          "base_uri": "https://localhost:8080/"
        },
        "id": "6Hanqhd6vWRF",
        "outputId": "a4ae1746-4fb8-41b5-a6c6-cf809d15d567"
      },
      "execution_count": 19,
      "outputs": [
        {
          "output_type": "stream",
          "name": "stdout",
          "text": [
            "\n",
            "Budget Tracker Menu:\n",
            "1. Add Transaction\n",
            "2. View All Transactions\n",
            "3. Summary\n",
            "4. Quit\n",
            "\n",
            "Enter your choice (1/2/3/4): 2\n",
            "\n",
            "------ All Transactions ------\n",
            "Date         | Description                    | Type       |     Amount | Category            \n",
            "--------------------------------------------------------------------------------\n",
            "<12 | a                              | Income     | $     10.00 | hello               \n",
            "--------------------------------------------------------------------------------\n",
            "\n",
            "Budget Tracker Menu:\n",
            "1. Add Transaction\n",
            "2. View All Transactions\n",
            "3. Summary\n",
            "4. Quit\n",
            "\n",
            "Enter your choice (1/2/3/4): 3\n",
            "\n",
            "------ Summary ------\n",
            "Total Income: $10.00\n",
            "Total Expenses: $0.00\n",
            "Balance: $10.00\n",
            "----------------------\n",
            "\n",
            "Budget Tracker Menu:\n",
            "1. Add Transaction\n",
            "2. View All Transactions\n",
            "3. Summary\n",
            "4. Quit\n",
            "\n",
            "Enter your choice (1/2/3/4): 4\n",
            "Goodbye!\n"
          ]
        }
      ]
    },
    {
      "cell_type": "code",
      "source": [],
      "metadata": {
        "id": "oSBkL_7b7twQ"
      },
      "execution_count": null,
      "outputs": []
    }
  ]
}