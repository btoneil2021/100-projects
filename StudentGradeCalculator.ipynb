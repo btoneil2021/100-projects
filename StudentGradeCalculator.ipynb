{
  "nbformat": 4,
  "nbformat_minor": 0,
  "metadata": {
    "colab": {
      "provenance": [],
      "authorship_tag": "ABX9TyNhjvi8xHQLg1IMxuVF2ns5",
      "include_colab_link": true
    },
    "kernelspec": {
      "name": "python3",
      "display_name": "Python 3"
    },
    "language_info": {
      "name": "python"
    }
  },
  "cells": [
    {
      "cell_type": "markdown",
      "metadata": {
        "id": "view-in-github",
        "colab_type": "text"
      },
      "source": [
        "<a href=\"https://colab.research.google.com/github/btoneil2021/100-projects/blob/main/StudentGradeCalculator.ipynb\" target=\"_parent\"><img src=\"https://colab.research.google.com/assets/colab-badge.svg\" alt=\"Open In Colab\"/></a>"
      ]
    },
    {
      "cell_type": "code",
      "source": [
        "def get_grade_inputs():\n",
        "    \"\"\"\n",
        "    Prompts the user to enter the number of grade components,\n",
        "    and for each component, its name, score, and weight.\n",
        "    Validates that scores are between 0 and 100, and weights are positive.\n",
        "    \"\"\"\n",
        "    while True:\n",
        "        try:\n",
        "            num_components = int(input(\"Enter the number of grade components (e.g., 3 for Assignments, Midterm, Final Exam): \"))\n",
        "            if num_components > 0:\n",
        "                break\n",
        "            else:\n",
        "                print(\"Please enter a positive number for the components.\")\n",
        "        except ValueError:\n",
        "            print(\"Invalid input. Please enter a whole number.\")\n",
        "\n",
        "    components = []\n",
        "    total_weight = 0\n",
        "    for i in range(num_components):\n",
        "        component_name = input(f\"\\nEnter the name for component #{i+1}: \")\n",
        "        while True:\n",
        "            try:\n",
        "                score = float(input(f\"Enter the score for {component_name} (0-100): \"))\n",
        "                if 0 <= score <= 100:\n",
        "                    break\n",
        "                else:\n",
        "                    print(\"Invalid score. Please enter a value between 0 and 100.\")\n",
        "            except ValueError:\n",
        "                print(\"Invalid input. Please enter a number for the score.\")\n",
        "\n",
        "        while True:\n",
        "            try:\n",
        "                weight = float(input(f\"Enter the weight for {component_name} (e.g., 20 for 20%): \"))\n",
        "                if weight > 0:\n",
        "                    break\n",
        "                else:\n",
        "                    print(\"Invalid weight. Please enter a positive value.\")\n",
        "            except ValueError:\n",
        "                print(\"Invalid input. Please enter a number for the weight.\")\n",
        "\n",
        "        components.append({'name': component_name, 'score': score, 'weight': weight})\n",
        "        total_weight += weight\n",
        "\n",
        "    return components, total_weight"
      ],
      "metadata": {
        "id": "J_qAz3N-UUBQ"
      },
      "execution_count": 1,
      "outputs": []
    },
    {
      "cell_type": "code",
      "source": [
        "def calculate_weighted_average(components):\n",
        "    \"\"\"\n",
        "    Calculates the weighted average score from a list of grade components.\n",
        "    Formula: Sum of (score * weight) / Sum of weights\n",
        "    \"\"\"\n",
        "    numerator = sum(item['score'] * item['weight'] for item in components)\n",
        "    denominator = sum(item['weight'] for item in components)\n",
        "\n",
        "    if denominator == 0:\n",
        "        return 0.0\n",
        "\n",
        "    return numerator / denominator"
      ],
      "metadata": {
        "id": "rkHQnwqqUWFv"
      },
      "execution_count": 2,
      "outputs": []
    },
    {
      "cell_type": "code",
      "source": [
        "def assign_letter_grade(final_score):\n",
        "    \"\"\"\n",
        "    Assigns a letter grade based on the final numerical score.\n",
        "    \"\"\"\n",
        "    if final_score >= 90:\n",
        "        return 'A'\n",
        "    elif final_score >= 80:\n",
        "        return 'B'\n",
        "    elif final_score >= 70:\n",
        "        return 'C'\n",
        "    elif final_score >= 60:\n",
        "        return 'D'\n",
        "    else:\n",
        "        return 'F'"
      ],
      "metadata": {
        "id": "zI1doqyUUYLU"
      },
      "execution_count": 3,
      "outputs": []
    },
    {
      "cell_type": "code",
      "execution_count": 4,
      "metadata": {
        "colab": {
          "base_uri": "https://localhost:8080/"
        },
        "id": "kcvkzz1gUEOu",
        "outputId": "bd3b08c5-df8c-4e2a-f1d7-8fa037754844"
      },
      "outputs": [
        {
          "output_type": "stream",
          "name": "stdout",
          "text": [
            "--- Student Grade Calculator ---\n",
            "Enter the number of grade components (e.g., 3 for Assignments, Midterm, Final Exam): 3\n",
            "\n",
            "Enter the name for component #1: Assignments\n",
            "Enter the score for Assignments (0-100): 100\n",
            "Enter the weight for Assignments (e.g., 20 for 20%): 10\n",
            "\n",
            "Enter the name for component #2: Midterm\n",
            "Enter the score for Midterm (0-100): 90\n",
            "Enter the weight for Midterm (e.g., 20 for 20%): 40\n",
            "\n",
            "Enter the name for component #3: Final\n",
            "Enter the score for Final (0-100): 100\n",
            "Enter the weight for Final (e.g., 20 for 20%): 50\n",
            "\n",
            "--- Grade Calculation Summary ---\n",
            "  - Assignments: Score = 100.0, Weight = 10.0%\n",
            "  - Midterm: Score = 90.0, Weight = 40.0%\n",
            "  - Final: Score = 100.0, Weight = 50.0%\n",
            "\n",
            "Final Weighted Score: 96.00\n",
            "Final Letter Grade: A\n"
          ]
        }
      ],
      "source": [
        "def main():\n",
        "    \"\"\"\n",
        "    Main function to run the grade calculator.\n",
        "    \"\"\"\n",
        "    print(\"--- Student Grade Calculator ---\")\n",
        "\n",
        "    components, total_weight = get_grade_inputs()\n",
        "\n",
        "    if total_weight != 100:\n",
        "        print(f\"\\nWarning: The sum of the weights is {total_weight}, which is not 100.\")\n",
        "        while True:\n",
        "            proceed = input(\"Do you wish to continue with this calculation? (yes/no): \").lower()\n",
        "            if proceed in ['yes', 'no']:\n",
        "                break\n",
        "            else:\n",
        "                print(\"Invalid input. Please enter 'yes' or 'no'.\")\n",
        "        if proceed == 'no':\n",
        "            print(\"Calculation cancelled.\")\n",
        "            return\n",
        "\n",
        "    final_score = calculate_weighted_average(components)\n",
        "    letter_grade = assign_letter_grade(final_score)\n",
        "\n",
        "    print(\"\\n--- Grade Calculation Summary ---\")\n",
        "    for component in components:\n",
        "        print(f\"  - {component['name']}: Score = {component['score']}, Weight = {component['weight']}%\")\n",
        "\n",
        "    print(f\"\\nFinal Weighted Score: {final_score:.2f}\")\n",
        "    print(f\"Final Letter Grade: {letter_grade}\")\n",
        "\n",
        "if __name__ == \"__main__\":\n",
        "    main()"
      ]
    }
  ]
}