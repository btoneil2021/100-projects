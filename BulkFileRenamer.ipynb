{
  "nbformat": 4,
  "nbformat_minor": 0,
  "metadata": {
    "colab": {
      "provenance": [],
      "authorship_tag": "ABX9TyPy/WbXvaw6+/5clHtCiWD5",
      "include_colab_link": true
    },
    "kernelspec": {
      "name": "python3",
      "display_name": "Python 3"
    },
    "language_info": {
      "name": "python"
    }
  },
  "cells": [
    {
      "cell_type": "markdown",
      "metadata": {
        "id": "view-in-github",
        "colab_type": "text"
      },
      "source": [
        "<a href=\"https://colab.research.google.com/github/btoneil2021/100-projects/blob/main/BulkFileRenamer.ipynb\" target=\"_parent\"><img src=\"https://colab.research.google.com/assets/colab-badge.svg\" alt=\"Open In Colab\"/></a>"
      ]
    },
    {
      "cell_type": "code",
      "source": [
        "zip_file_path = '/content/DownloadFolder.zip'\n",
        "source_folder = '/content/DownloadFolder'"
      ],
      "metadata": {
        "id": "q6NasTr_9upq"
      },
      "execution_count": 1,
      "outputs": []
    },
    {
      "cell_type": "code",
      "source": [
        "import os\n",
        "\n",
        "if not os.path.exists(source_folder):\n",
        "    os.makedirs(source_folder)\n",
        "    print(f\"Directory '{source_folder}' created successfully.\")\n",
        "else:\n",
        "    print(f\"Directory '{source_folder}' already exists.\")"
      ],
      "metadata": {
        "colab": {
          "base_uri": "https://localhost:8080/"
        },
        "id": "9lpsVK0t92ua",
        "outputId": "bd8c04a4-8376-422f-a23a-972cb81fc4da"
      },
      "execution_count": 2,
      "outputs": [
        {
          "output_type": "stream",
          "name": "stdout",
          "text": [
            "Directory '/content/DownloadFolder' created successfully.\n"
          ]
        }
      ]
    },
    {
      "cell_type": "code",
      "source": [
        "import zipfile\n",
        "\n",
        "try:\n",
        "  with zipfile.ZipFile(zip_file_path, 'r') as zip:\n",
        "    zip.extractall(source_folder)\n",
        "  print(f\"Successfully extracted '{zip_file_path}' to '{source_folder}'\")\n",
        "except FileNotFoundError:\n",
        "    print(f\"ERROR: Zip file not found at '{zip_file_path}'. Please check the path and ensure it's uploaded/mounted correctly.\")\n",
        "except zipfile.BadZipFile:\n",
        "    print(f\"ERROR: The file at '{zip_file_path}' is not a valid zip file or is corrupted.\")"
      ],
      "metadata": {
        "colab": {
          "base_uri": "https://localhost:8080/"
        },
        "id": "eqffsAL59iDA",
        "outputId": "623db01e-2d06-48fb-ae28-5ad3e0fca881"
      },
      "execution_count": 3,
      "outputs": [
        {
          "output_type": "stream",
          "name": "stdout",
          "text": [
            "Successfully extracted '/content/DownloadFolder.zip' to '/content/DownloadFolder'\n"
          ]
        }
      ]
    },
    {
      "cell_type": "code",
      "source": [
        "import os\n",
        "import re\n",
        "\n",
        "def bulk_rename_with_regex(directory, pattern, replacement, dry_run=True):\n",
        "    print(f\"Executing regex rename in directory: {directory}\")\n",
        "    if dry_run:\n",
        "        print(\"--- DRY RUN MODE ---\")\n",
        "    else:\n",
        "        print(\"--- LIVE RUN MODE ---\")\n",
        "\n",
        "    print(\"-\" * 20)\n",
        "\n",
        "    try:\n",
        "        compiled_pattern = re.compile(pattern)\n",
        "        files = os.listdir(directory)\n",
        "    except FileNotFoundError:\n",
        "        print(f\"[ERROR] Directory not found: {directory}\")\n",
        "        return\n",
        "    except re.error as e:\n",
        "        print(f\"[ERROR] Invalid regular expression: {e}\")\n",
        "        return\n",
        "\n",
        "    files_renamed_count = 0\n",
        "    for filename in files:\n",
        "        old_path = os.path.join(directory, filename)\n",
        "\n",
        "        if os.path.isfile(old_path):\n",
        "            new_filename, num_substitutions = compiled_pattern.subn(replacement, filename)\n",
        "\n",
        "            if num_substitutions > 0:\n",
        "                new_path = os.path.join(directory, new_filename)\n",
        "                print(f\"Original: {filename} -> New: {new_filename}\")\n",
        "\n",
        "                if not dry_run:\n",
        "                    try:\n",
        "                        os.rename(old_path, new_path)\n",
        "                        print(f\"  -> Renamed successfully.\")\n",
        "                    except OSError as e:\n",
        "                        print(f\"  -> [ERROR] Could not rename {filename}: {e}\")\n",
        "\n",
        "                files_renamed_count += 1\n",
        "\n",
        "    print(\"-\" * 20)\n",
        "    if files_renamed_count == 0:\n",
        "        print(\"No files matched the specified pattern. No changes were made.\")\n",
        "    else:\n",
        "        print(f\"Completed. {files_renamed_count} file(s) processed.\")\n",
        "\n",
        "\n",
        "if __name__ == \"__main__\":\n",
        "    # --- Configuration ---\n",
        "    target_directory = \"/content/DownloadFolder/DownloadFolderbyFileType\"\n",
        "\n",
        "    search_pattern = r\"test_\"\n",
        "\n",
        "    replace_with = \"ILOVEYOU_\"\n",
        "\n",
        "    is_dry_run = True\n",
        "\n",
        "    # --- Execution ---\n",
        "    bulk_rename_with_regex(\n",
        "        directory=target_directory,\n",
        "        pattern=search_pattern,\n",
        "        replacement=replace_with,\n",
        "        dry_run=is_dry_run\n",
        "    )"
      ],
      "metadata": {
        "colab": {
          "base_uri": "https://localhost:8080/"
        },
        "id": "RfOoEFNQ96x5",
        "outputId": "dc3e9d26-6121-41a5-fbfa-f2be7cea7cb8"
      },
      "execution_count": 9,
      "outputs": [
        {
          "output_type": "stream",
          "name": "stdout",
          "text": [
            "Executing regex rename in directory: /content/DownloadFolder/DownloadFolderbyFileType\n",
            "--- DRY RUN MODE ---\n",
            "--------------------\n",
            "Original: test_graphs.py -> New: ILOVEYOU_graphs.py\n",
            "Original: test_graphs.png -> New: ILOVEYOU_graphs.png\n",
            "--------------------\n",
            "Completed. 2 file(s) processed.\n"
          ]
        }
      ]
    }
  ]
}