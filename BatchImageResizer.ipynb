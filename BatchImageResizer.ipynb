{
  "nbformat": 4,
  "nbformat_minor": 0,
  "metadata": {
    "colab": {
      "provenance": [],
      "authorship_tag": "ABX9TyMRG6W5lTT/Ws+nP9Cl0nSL",
      "include_colab_link": true
    },
    "kernelspec": {
      "name": "python3",
      "display_name": "Python 3"
    },
    "language_info": {
      "name": "python"
    }
  },
  "cells": [
    {
      "cell_type": "markdown",
      "metadata": {
        "id": "view-in-github",
        "colab_type": "text"
      },
      "source": [
        "<a href=\"https://colab.research.google.com/github/btoneil2021/100-projects/blob/main/BatchImageResizer.ipynb\" target=\"_parent\"><img src=\"https://colab.research.google.com/assets/colab-badge.svg\" alt=\"Open In Colab\"/></a>"
      ]
    },
    {
      "cell_type": "code",
      "execution_count": 10,
      "metadata": {
        "id": "PTi4yAI-F_67"
      },
      "outputs": [],
      "source": [
        "import os\n",
        "import shutil\n",
        "from PIL import Image"
      ]
    },
    {
      "cell_type": "code",
      "source": [
        "import zipfile\n",
        "\n",
        "with zipfile.ZipFile('photos.zip', 'r') as zip_ref:\n",
        "    zip_ref.extractall('.')"
      ],
      "metadata": {
        "id": "QqL6G6OGHQCM"
      },
      "execution_count": 5,
      "outputs": []
    },
    {
      "cell_type": "code",
      "source": [
        "def process_images(input_folder, output_folder, output_format=None, resize_percentage=None, resize_pixels=None, maintain_aspect=False):\n",
        "    if not os.path.exists(output_folder):\n",
        "        os.makedirs(output_folder)\n",
        "        print(f\"Created output directory: {output_folder}\")\n",
        "\n",
        "    for filename in os.listdir(input_folder):\n",
        "        input_path = os.path.join(input_folder, filename)\n",
        "\n",
        "        try:\n",
        "            with Image.open(input_path) as img:\n",
        "                print(f\"Processing {filename}...\")\n",
        "\n",
        "                if resize_percentage:\n",
        "                    width, height = img.size\n",
        "                    new_width = int(width * (resize_percentage / 100))\n",
        "                    new_height = int(height * (resize_percentage / 100))\n",
        "                    img = img.resize((new_width, new_height), Image.Resampling.LANCZOS)\n",
        "\n",
        "                elif resize_pixels:\n",
        "                    if maintain_aspect:\n",
        "                        img.thumbnail(resize_pixels, Image.Resampling.LANCZOS)\n",
        "                    else:\n",
        "                        img = img.resize(resize_pixels, Image.Resampling.LANCZOS)\n",
        "\n",
        "                file_basename, file_ext = os.path.splitext(filename)\n",
        "\n",
        "                if output_format:\n",
        "                    new_filename = f\"{file_basename}.{output_format.lower()}\"\n",
        "                else:\n",
        "                    new_filename = filename\n",
        "\n",
        "                output_path = os.path.join(output_folder, new_filename)\n",
        "\n",
        "                if output_format and output_format.lower() in ['jpg', 'jpeg']:\n",
        "                    if img.mode == 'RGBA':\n",
        "                        img = img.convert('RGB')\n",
        "\n",
        "                img.save(output_path)\n",
        "                print(f\"Saved processed image to {output_path}\")\n",
        "\n",
        "        except (IOError, SyntaxError) as e:\n",
        "            print(f\"Skipping {filename} as it is not a valid image file. Error: {e}\")"
      ],
      "metadata": {
        "id": "Q0hKjNRRGPAJ"
      },
      "execution_count": 13,
      "outputs": []
    },
    {
      "cell_type": "code",
      "source": [
        "input_folder = '/content/Photos-1-001'\n",
        "output_folder = '/content/output_images'\n",
        "resize_percentage = 50\n",
        "resize_pixels = None\n",
        "maintain_aspect = True\n",
        "output_format = 'jpg'\n",
        "\n",
        "if os.path.exists(input_folder) and os.path.isdir(input_folder):\n",
        "    process_images(\n",
        "        input_folder=input_folder,\n",
        "        output_folder=output_folder,\n",
        "        output_format=output_format,\n",
        "        resize_percentage=resize_percentage,\n",
        "        resize_pixels=resize_pixels,\n",
        "        maintain_aspect=maintain_aspect\n",
        "    )\n",
        "    print(\"\\nProcessing complete.\")\n",
        "    shutil.make_archive('processed_images', 'zip', output_folder)\n",
        "    print(f\"Output folder '{output_folder}' has been zipped to 'processed_images.zip'.\")\n",
        "else:\n",
        "    print(f\"Error: Input folder '{input_folder}' not found. Please ensure it is created and populated.\")"
      ],
      "metadata": {
        "colab": {
          "base_uri": "https://localhost:8080/"
        },
        "id": "6sLbS_r8GR5C",
        "outputId": "c4a264e8-6cec-435d-d268-3386a336a4f1"
      },
      "execution_count": 14,
      "outputs": [
        {
          "output_type": "stream",
          "name": "stdout",
          "text": [
            "Processing IMG_4807.jpg...\n",
            "Saved processed image to /content/output_images/IMG_4807.jpg\n",
            "Processing IMG_4816.jpg...\n",
            "Saved processed image to /content/output_images/IMG_4816.jpg\n",
            "Processing IMG_4814.jpg...\n",
            "Saved processed image to /content/output_images/IMG_4814.jpg\n",
            "Processing IMG_4815.jpg...\n",
            "Saved processed image to /content/output_images/IMG_4815.jpg\n",
            "Processing IMG_4812.jpg...\n",
            "Saved processed image to /content/output_images/IMG_4812.jpg\n",
            "Processing IMG_4810.jpg...\n",
            "Saved processed image to /content/output_images/IMG_4810.jpg\n",
            "Processing IMG_4811.jpg...\n",
            "Saved processed image to /content/output_images/IMG_4811.jpg\n",
            "Processing IMG_4813.jpg...\n",
            "Saved processed image to /content/output_images/IMG_4813.jpg\n",
            "Processing IMG_4808.jpg...\n",
            "Saved processed image to /content/output_images/IMG_4808.jpg\n",
            "Processing IMG_4809.jpg...\n",
            "Saved processed image to /content/output_images/IMG_4809.jpg\n",
            "\n",
            "Processing complete.\n",
            "Output folder '/content/output_images' has been zipped to 'processed_images.zip'.\n"
          ]
        }
      ]
    },
    {
      "cell_type": "code",
      "source": [],
      "metadata": {
        "id": "qbpdC5-2GSj-"
      },
      "execution_count": null,
      "outputs": []
    }
  ]
}